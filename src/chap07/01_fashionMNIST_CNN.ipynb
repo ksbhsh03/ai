{
 "cells": [
  {
   "cell_type": "code",
   "execution_count": 1,
   "id": "30db8a1d",
   "metadata": {},
   "outputs": [],
   "source": [
    "from tensorflow import keras\n",
    "from sklearn.model_selection import train_test_split\n",
    "\n",
    "(train_input, train_target),(test_input, test_target) = keras.datasets.fashion_mnist.load_data()\n",
    "\n",
    "train_scaled = train_input.reshape(-1, 28, 28, 1) /255.0   # N=60000 H=28 , 28, c=1\n",
    "train_scaled, val_scaled, train_target, val_target = train_test_split(train_scaled,train_target, test_size=0.2, random_state=42)"
   ]
  },
  {
   "cell_type": "code",
   "execution_count": 19,
   "id": "fcceff53",
   "metadata": {},
   "outputs": [],
   "source": [
    "# CNN(합성곱) 신경망 만들기\n",
    "# convㅐloutional 형\n",
    "# CNN에서는 뉴런을 생성할때  Conv2D 사용한다.\n",
    "# 필터를 몇개만들지 사용하는 매개변수는 filter이다\n",
    "# CNN에서는 행,렬,면 순서로 넣어줘야한다  \n",
    "# MaxPooling2D 지정한 shaple에서 최댓값,\n",
    "# AveragePooling2D 지정한 값에서 평균\n",
    "model = keras.Sequential()\n",
    "model.add(keras.layers.Conv2D(filters=32, kernel_size=(3,3), padding='same',input_shape=(28, 28, 1),activation='relu'))\n",
    "model.add(keras.layers.MaxPooling2D(pool_size=(2, 2)))"
   ]
  },
  {
   "cell_type": "code",
   "execution_count": 20,
   "id": "78ab25c5",
   "metadata": {},
   "outputs": [],
   "source": [
    "model.add(keras.layers.Conv2D(filters=64, kernel_size=(3,3), padding='same',input_shape=(28, 28, 1),activation='relu'))\n",
    "model.add(keras.layers.MaxPooling2D(pool_size=(2, 2)))"
   ]
  },
  {
   "cell_type": "code",
   "execution_count": 21,
   "id": "1c4bf2e3",
   "metadata": {},
   "outputs": [],
   "source": [
    "# 완전연결형\n",
    "model.add(keras.layers.Flatten())\n",
    "model.add(keras.layers.Dense(units=100, activation='relu'))\n",
    "model.add(keras.layers.Dropout(0.4))\n",
    "model.add(keras.layers.Dense(units=10, activation='softmax'))"
   ]
  },
  {
   "cell_type": "code",
   "execution_count": 22,
   "id": "5e7e308c",
   "metadata": {},
   "outputs": [
    {
     "name": "stdout",
     "output_type": "stream",
     "text": [
      "Model: \"sequential_2\"\n",
      "_________________________________________________________________\n",
      " Layer (type)                Output Shape              Param #   \n",
      "=================================================================\n",
      " conv2d_2 (Conv2D)           (None, 28, 28, 32)        320       \n",
      "                                                                 \n",
      " max_pooling2d_1 (MaxPooling  (None, 14, 14, 32)       0         \n",
      " 2D)                                                             \n",
      "                                                                 \n",
      " conv2d_3 (Conv2D)           (None, 14, 14, 64)        18496     \n",
      "                                                                 \n",
      " max_pooling2d_2 (MaxPooling  (None, 7, 7, 64)         0         \n",
      " 2D)                                                             \n",
      "                                                                 \n",
      " flatten_3 (Flatten)         (None, 3136)              0         \n",
      "                                                                 \n",
      " dense_6 (Dense)             (None, 100)               313700    \n",
      "                                                                 \n",
      " dropout_3 (Dropout)         (None, 100)               0         \n",
      "                                                                 \n",
      " dense_7 (Dense)             (None, 10)                1010      \n",
      "                                                                 \n",
      "=================================================================\n",
      "Total params: 333,526\n",
      "Trainable params: 333,526\n",
      "Non-trainable params: 0\n",
      "_________________________________________________________________\n"
     ]
    }
   ],
   "source": [
    "model.summary()"
   ]
  },
  {
   "cell_type": "code",
   "execution_count": 23,
   "id": "d03c8038",
   "metadata": {},
   "outputs": [],
   "source": [
    "model.compile(optimizer='adam', loss='sparse_categorical_crossentropy', metrics='accuracy')"
   ]
  },
  {
   "cell_type": "code",
   "execution_count": 25,
   "id": "ae6a2aff",
   "metadata": {
    "scrolled": true
   },
   "outputs": [
    {
     "name": "stdout",
     "output_type": "stream",
     "text": [
      "Epoch 1/20\n",
      "1500/1500 [==============================] - 25s 16ms/step - loss: 0.2721 - accuracy: 0.9006 - val_loss: 0.2490 - val_accuracy: 0.9078\n",
      "Epoch 2/20\n",
      "1500/1500 [==============================] - 25s 17ms/step - loss: 0.2464 - accuracy: 0.9089 - val_loss: 0.2392 - val_accuracy: 0.9096\n",
      "Epoch 3/20\n",
      "1500/1500 [==============================] - 27s 18ms/step - loss: 0.2237 - accuracy: 0.9190 - val_loss: 0.2242 - val_accuracy: 0.9175\n",
      "Epoch 4/20\n",
      "1500/1500 [==============================] - 25s 17ms/step - loss: 0.2051 - accuracy: 0.9249 - val_loss: 0.2242 - val_accuracy: 0.9185\n",
      "Epoch 5/20\n",
      "1500/1500 [==============================] - 26s 17ms/step - loss: 0.1892 - accuracy: 0.9301 - val_loss: 0.2248 - val_accuracy: 0.9193\n",
      "Epoch 6/20\n",
      "1500/1500 [==============================] - 26s 17ms/step - loss: 0.1774 - accuracy: 0.9335 - val_loss: 0.2224 - val_accuracy: 0.9218\n",
      "Epoch 7/20\n",
      "1500/1500 [==============================] - 29s 19ms/step - loss: 0.1614 - accuracy: 0.9387 - val_loss: 0.2240 - val_accuracy: 0.9218\n",
      "Epoch 8/20\n",
      "1500/1500 [==============================] - 31s 21ms/step - loss: 0.1496 - accuracy: 0.9433 - val_loss: 0.2432 - val_accuracy: 0.9161\n"
     ]
    }
   ],
   "source": [
    "# callbacks \n",
    "# 전이학습 : 최적화된 모델을 가져와서 학습시킨다\n",
    "checkpoint_cb = keras.callbacks.ModelCheckpoint('best-cnn-model.h5', save_best_only=True)\n",
    "early_stopping_cb = keras.callbacks.EarlyStopping(patience=2, restore_best_weights=True) \n",
    "\n",
    "history = model.fit(train_scaled, train_target, epochs=20, validation_data=(val_scaled, val_target),\n",
    "                    callbacks=[checkpoint_cb, early_stopping_cb])"
   ]
  },
  {
   "cell_type": "code",
   "execution_count": 26,
   "id": "5819d346",
   "metadata": {},
   "outputs": [
    {
     "data": {
      "image/png": "[encoded data removed]",
      "text/plain": [
       "<Figure size 640x480 with 1 Axes>"
      ]
     },
     "metadata": {},
     "output_type": "display_data"
    }
   ],
   "source": [
    "import matplotlib.pyplot as plt\n",
    "plt.plot(history.history['loss'])\n",
    "plt.plot(history.history['val_loss'])\n",
    "plt.xlabel('epochs')\n",
    "plt.ylabel('loss')\n",
    "plt.legend(['train', 'val'])\n",
    "plt.show()"
   ]
  },
  {
   "cell_type": "code",
   "execution_count": null,
   "id": "008a7b8e",
   "metadata": {},
   "outputs": [],
   "source": []
  }
 ],
 "metadata": {
  "kernelspec": {
   "display_name": "Python [conda env:tf_cpu] *",
   "language": "python",
   "name": "conda-env-tf_cpu-py"
  },
  "language_info": {
   "codemirror_mode": {
    "name": "ipython",
    "version": 3
   },
   "file_extension": ".py",
   "mimetype": "text/x-python",
   "name": "python",
   "nbconvert_exporter": "python",
   "pygments_lexer": "ipython3",
   "version": "3.7.13"
  }
 },
 "nbformat": 4,
 "nbformat_minor": 5
}
