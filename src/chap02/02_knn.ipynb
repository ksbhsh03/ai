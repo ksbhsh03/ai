{
 "cells": [
  {
   "cell_type": "markdown",
   "id": "71198f8d",
   "metadata": {},
   "source": [
    "## 라이브러리 임포트\n",
    "- 실습에 필요한 라이브러리를 임포트한다"
   ]
  },
  {
   "cell_type": "code",
   "execution_count": 18,
   "id": "787fb212",
   "metadata": {},
   "outputs": [],
   "source": [
    "import numpy as np\n",
    "import pandas as pd\n",
    "import matplotlib.pyplot as plt\n",
    "import seaborn as sns"
   ]
  },
  {
   "cell_type": "markdown",
   "id": "5b9cb3a0",
   "metadata": {},
   "source": [
    "## 데이터 불러오기(학습데이터, 테스트데이터)\n",
    "- 데이터 분석 단계에서 생성한 농구 포지션 예측하기의 학습 데이터 및 테스트데이터를 로드합니다."
   ]
  },
  {
   "cell_type": "code",
   "execution_count": 19,
   "id": "ac4fd66c",
   "metadata": {},
   "outputs": [],
   "source": [
    "train = pd.read_csv('data/csv/basketball_trian.csv')\n",
    "test = pd.read_csv('data/csv/basketball_test.csv')"
   ]
  },
  {
   "cell_type": "code",
   "execution_count": 20,
   "id": "e9865484",
   "metadata": {},
   "outputs": [
    {
     "name": "stdout",
     "output_type": "stream",
     "text": [
      "80\n",
      "5\n",
      "20\n",
      "5\n"
     ]
    }
   ],
   "source": [
    "print(train.shape[0]) # 훈련용 데이터 셋 갯수\n",
    "print(train.shape[1]) # feature 갯수\n",
    "\n",
    "print(test.shape[0]) # feature 갯수\n",
    "print(test.shape[1])  # 테스트용 데이터 셋 갯수"
   ]
  },
  {
   "cell_type": "markdown",
   "id": "ae9dec7b",
   "metadata": {},
   "source": [
    "## 최적의 k찾기"
   ]
  },
  {
   "cell_type": "code",
   "execution_count": 21,
   "id": "46c9e2e9",
   "metadata": {},
   "outputs": [],
   "source": [
    "# import kNN library\n",
    "from sklearn.neighbors import KNeighborsClassifier\n",
    "from sklearn.model_selection import cross_val_score\n",
    "\n",
    "# 최적의 k값을 찾기, 3부터 사작해서 3max_k_range/2 까지의 범위.\n",
    "max_k_range = train.shape[0]\n",
    "k_list = []\n",
    "\n",
    "\n",
    "for i in range(3, max_k_range//2, 2):  # 3, 5, .....39\n",
    "    k_list.append(i)\n",
    "    \n",
    "cross_validation_scores = []\n",
    "x_train = train[['3P','TRB','BLK']]  # dataFrame에서 행렬접근 방법 loc, iloc  2개의 피처로 \n",
    "y_train = train[['Pos']]  # 결과값 "
   ]
  },
  {
   "cell_type": "code",
   "execution_count": 22,
   "id": "d8129be8",
   "metadata": {},
   "outputs": [
    {
     "data": {
      "text/plain": [
       "[0.9,\n",
       " 0.9,\n",
       " 0.9125,\n",
       " 0.9375,\n",
       " 0.9375,\n",
       " 0.9375,\n",
       " 0.925,\n",
       " 0.9375,\n",
       " 0.9125,\n",
       " 0.9,\n",
       " 0.9,\n",
       " 0.9,\n",
       " 0.8875,\n",
       " 0.85,\n",
       " 0.8375,\n",
       " 0.8375,\n",
       " 0.825,\n",
       " 0.825,\n",
       " 0.825]"
      ]
     },
     "execution_count": 22,
     "metadata": {},
     "output_type": "execute_result"
    }
   ],
   "source": [
    "# 10-fold cross validation \n",
    "for k in k_list:\n",
    "    knn = KNeighborsClassifier(n_neighbors= k)  # 3,5,7.....,39까지의 값을 알고리즘에 적용한다.\n",
    "    # cross_val_score 교차분석\n",
    "    scores = cross_val_score(knn, x_train, y_train.values.ravel(), cv = 10, scoring='accuracy') # ravel() 다시 1차원의 형태처럼 펼쳐지는 효과\n",
    "    \n",
    "    cross_validation_scores.append(scores.mean())\n",
    "    \n",
    "cross_validation_scores"
   ]
  },
  {
   "cell_type": "code",
   "execution_count": 23,
   "id": "3f4f34e0",
   "metadata": {},
   "outputs": [
    {
     "data": {
      "image/png": "[encoded data removed]",
      "text/plain": [
       "<Figure size 640x480 with 1 Axes>"
      ]
     },
     "metadata": {},
     "output_type": "display_data"
    }
   ],
   "source": [
    "# 시각화\n",
    "plt.plot(k_list, cross_validation_scores)\n",
    "plt.xlabel('the number of k')\n",
    "plt.ylabel('Accuracy')\n",
    "plt.show()"
   ]
  },
  {
   "cell_type": "code",
   "execution_count": 30,
   "id": "a45b7a48",
   "metadata": {},
   "outputs": [
    {
     "name": "stdout",
     "output_type": "stream",
     "text": [
      "최적의 k값 : 9\n"
     ]
    }
   ],
   "source": [
    "# 최적화 k값\n",
    "cvs = cross_validation_scores\n",
    "k = k_list[cvs.index(max(cross_validation_scores))]\n",
    "print('최적의 k값 :', str(k))"
   ]
  },
  {
   "cell_type": "markdown",
   "id": "fc779abc",
   "metadata": {},
   "source": [
    "## 2개 특징으로 예측하기('3P','BLK')"
   ]
  },
  {
   "cell_type": "code",
   "execution_count": 34,
   "id": "c090c0aa",
   "metadata": {},
   "outputs": [],
   "source": [
    "knn = KNeighborsClassifier(n_neighbors= k)\n",
    "\n",
    "x_train = train[['3P','BLK']]\n",
    "y_train = train[['Pos']]   # 2차원이여서 1차원으로 변경해서 학습시켜야한다.\n",
    "\n",
    "knn.fit(x_train, y_train.values.ravel())  # fit()는 훈련데이터를 사용해서 KNN 알고리즘에 훈려시켜주는 메서드\n",
    "\n",
    "x_test = test[['3P','BLK']]\n",
    "y_test = test[['Pos']]\n",
    "\n",
    "pred = knn.predict(x_test)   #predict() test을 검증하는 메서드"
   ]
  },
  {
   "cell_type": "code",
   "execution_count": 35,
   "id": "d5dcd6a4",
   "metadata": {},
   "outputs": [
    {
     "data": {
      "text/html": [
       "<div>\n",
       "<style scoped>\n",
       "    .dataframe tbody tr th:only-of-type {\n",
       "        vertical-align: middle;\n",
       "    }\n",
       "\n",
       "    .dataframe tbody tr th {\n",
       "        vertical-align: top;\n",
       "    }\n",
       "\n",
       "    .dataframe thead th {\n",
       "        text-align: right;\n",
       "    }\n",
       "</style>\n",
       "<table border=\"1\" class=\"dataframe\">\n",
       "  <thead>\n",
       "    <tr style=\"text-align: right;\">\n",
       "      <th></th>\n",
       "      <th>prediction:</th>\n",
       "      <th>tarket</th>\n",
       "    </tr>\n",
       "  </thead>\n",
       "  <tbody>\n",
       "    <tr>\n",
       "      <th>0</th>\n",
       "      <td>C</td>\n",
       "      <td>C</td>\n",
       "    </tr>\n",
       "    <tr>\n",
       "      <th>1</th>\n",
       "      <td>C</td>\n",
       "      <td>C</td>\n",
       "    </tr>\n",
       "    <tr>\n",
       "      <th>2</th>\n",
       "      <td>C</td>\n",
       "      <td>C</td>\n",
       "    </tr>\n",
       "    <tr>\n",
       "      <th>3</th>\n",
       "      <td>C</td>\n",
       "      <td>C</td>\n",
       "    </tr>\n",
       "    <tr>\n",
       "      <th>4</th>\n",
       "      <td>C</td>\n",
       "      <td>C</td>\n",
       "    </tr>\n",
       "    <tr>\n",
       "      <th>5</th>\n",
       "      <td>SG</td>\n",
       "      <td>SG</td>\n",
       "    </tr>\n",
       "    <tr>\n",
       "      <th>6</th>\n",
       "      <td>SG</td>\n",
       "      <td>SG</td>\n",
       "    </tr>\n",
       "    <tr>\n",
       "      <th>7</th>\n",
       "      <td>SG</td>\n",
       "      <td>SG</td>\n",
       "    </tr>\n",
       "    <tr>\n",
       "      <th>8</th>\n",
       "      <td>C</td>\n",
       "      <td>C</td>\n",
       "    </tr>\n",
       "    <tr>\n",
       "      <th>9</th>\n",
       "      <td>SG</td>\n",
       "      <td>SG</td>\n",
       "    </tr>\n",
       "    <tr>\n",
       "      <th>10</th>\n",
       "      <td>C</td>\n",
       "      <td>C</td>\n",
       "    </tr>\n",
       "    <tr>\n",
       "      <th>11</th>\n",
       "      <td>SG</td>\n",
       "      <td>SG</td>\n",
       "    </tr>\n",
       "    <tr>\n",
       "      <th>12</th>\n",
       "      <td>C</td>\n",
       "      <td>SG</td>\n",
       "    </tr>\n",
       "    <tr>\n",
       "      <th>13</th>\n",
       "      <td>C</td>\n",
       "      <td>C</td>\n",
       "    </tr>\n",
       "    <tr>\n",
       "      <th>14</th>\n",
       "      <td>C</td>\n",
       "      <td>C</td>\n",
       "    </tr>\n",
       "    <tr>\n",
       "      <th>15</th>\n",
       "      <td>SG</td>\n",
       "      <td>SG</td>\n",
       "    </tr>\n",
       "    <tr>\n",
       "      <th>16</th>\n",
       "      <td>SG</td>\n",
       "      <td>SG</td>\n",
       "    </tr>\n",
       "    <tr>\n",
       "      <th>17</th>\n",
       "      <td>C</td>\n",
       "      <td>C</td>\n",
       "    </tr>\n",
       "    <tr>\n",
       "      <th>18</th>\n",
       "      <td>C</td>\n",
       "      <td>C</td>\n",
       "    </tr>\n",
       "    <tr>\n",
       "      <th>19</th>\n",
       "      <td>C</td>\n",
       "      <td>C</td>\n",
       "    </tr>\n",
       "  </tbody>\n",
       "</table>\n",
       "</div>"
      ],
      "text/plain": [
       "   prediction: tarket\n",
       "0            C      C\n",
       "1            C      C\n",
       "2            C      C\n",
       "3            C      C\n",
       "4            C      C\n",
       "5           SG     SG\n",
       "6           SG     SG\n",
       "7           SG     SG\n",
       "8            C      C\n",
       "9           SG     SG\n",
       "10           C      C\n",
       "11          SG     SG\n",
       "12           C     SG\n",
       "13           C      C\n",
       "14           C      C\n",
       "15          SG     SG\n",
       "16          SG     SG\n",
       "17           C      C\n",
       "18           C      C\n",
       "19           C      C"
      ]
     },
     "execution_count": 35,
     "metadata": {},
     "output_type": "execute_result"
    }
   ],
   "source": [
    "comparision = pd.DataFrame({'prediction:':pred, 'tarket':y_test.values.ravel()})\n",
    "comparision"
   ]
  },
  {
   "cell_type": "code",
   "execution_count": 37,
   "id": "f1feced3",
   "metadata": {},
   "outputs": [
    {
     "name": "stdout",
     "output_type": "stream",
     "text": [
      "accuracy :0.95\n"
     ]
    }
   ],
   "source": [
    "from sklearn.metrics import accuracy_score\n",
    "\n",
    "# accuracy_score() 예측값과 정답값을 넣어주면 알아서 정확도를 계산해주는 메서드\n",
    "print('accuracy :' + str(accuracy_score(y_test.values.ravel(), pred)))  "
   ]
  },
  {
   "cell_type": "markdown",
   "id": "084b55f2",
   "metadata": {},
   "source": [
    "## 3개의 특징으로 예측하기('3P', 'TRB', 'BLK')"
   ]
  },
  {
   "cell_type": "code",
   "execution_count": 38,
   "id": "f6ff653b",
   "metadata": {},
   "outputs": [],
   "source": [
    "knn = KNeighborsClassifier(n_neighbors= k)\n",
    "\n",
    "x_train = train[['3P','TRB','BLK']]\n",
    "y_train = train[['Pos']]   # 2차원이여서 1차원으로 변경해서 학습시켜야한다.\n",
    "\n",
    "knn.fit(x_train, y_train.values.ravel())  # fit()는 훈련데이터를 사용해서 KNN 알고리즘에 학습시켜주는 메서드\n",
    "\n",
    "x_test = test[['3P','TRB', 'BLK']]\n",
    "y_test = test[['Pos']]\n",
    "\n",
    "pred = knn.predict(x_test)   #predict()예측을 해준는 메서드"
   ]
  },
  {
   "cell_type": "code",
   "execution_count": 40,
   "id": "1eaf0ee0",
   "metadata": {},
   "outputs": [
    {
     "data": {
      "text/html": [
       "<div>\n",
       "<style scoped>\n",
       "    .dataframe tbody tr th:only-of-type {\n",
       "        vertical-align: middle;\n",
       "    }\n",
       "\n",
       "    .dataframe tbody tr th {\n",
       "        vertical-align: top;\n",
       "    }\n",
       "\n",
       "    .dataframe thead th {\n",
       "        text-align: right;\n",
       "    }\n",
       "</style>\n",
       "<table border=\"1\" class=\"dataframe\">\n",
       "  <thead>\n",
       "    <tr style=\"text-align: right;\">\n",
       "      <th></th>\n",
       "      <th>prediction:</th>\n",
       "      <th>tarket</th>\n",
       "    </tr>\n",
       "  </thead>\n",
       "  <tbody>\n",
       "    <tr>\n",
       "      <th>0</th>\n",
       "      <td>C</td>\n",
       "      <td>C</td>\n",
       "    </tr>\n",
       "    <tr>\n",
       "      <th>1</th>\n",
       "      <td>C</td>\n",
       "      <td>C</td>\n",
       "    </tr>\n",
       "    <tr>\n",
       "      <th>2</th>\n",
       "      <td>C</td>\n",
       "      <td>C</td>\n",
       "    </tr>\n",
       "    <tr>\n",
       "      <th>3</th>\n",
       "      <td>C</td>\n",
       "      <td>C</td>\n",
       "    </tr>\n",
       "    <tr>\n",
       "      <th>4</th>\n",
       "      <td>C</td>\n",
       "      <td>C</td>\n",
       "    </tr>\n",
       "    <tr>\n",
       "      <th>5</th>\n",
       "      <td>SG</td>\n",
       "      <td>SG</td>\n",
       "    </tr>\n",
       "    <tr>\n",
       "      <th>6</th>\n",
       "      <td>SG</td>\n",
       "      <td>SG</td>\n",
       "    </tr>\n",
       "    <tr>\n",
       "      <th>7</th>\n",
       "      <td>SG</td>\n",
       "      <td>SG</td>\n",
       "    </tr>\n",
       "    <tr>\n",
       "      <th>8</th>\n",
       "      <td>C</td>\n",
       "      <td>C</td>\n",
       "    </tr>\n",
       "    <tr>\n",
       "      <th>9</th>\n",
       "      <td>SG</td>\n",
       "      <td>SG</td>\n",
       "    </tr>\n",
       "    <tr>\n",
       "      <th>10</th>\n",
       "      <td>C</td>\n",
       "      <td>C</td>\n",
       "    </tr>\n",
       "    <tr>\n",
       "      <th>11</th>\n",
       "      <td>SG</td>\n",
       "      <td>SG</td>\n",
       "    </tr>\n",
       "    <tr>\n",
       "      <th>12</th>\n",
       "      <td>C</td>\n",
       "      <td>SG</td>\n",
       "    </tr>\n",
       "    <tr>\n",
       "      <th>13</th>\n",
       "      <td>C</td>\n",
       "      <td>C</td>\n",
       "    </tr>\n",
       "    <tr>\n",
       "      <th>14</th>\n",
       "      <td>C</td>\n",
       "      <td>C</td>\n",
       "    </tr>\n",
       "    <tr>\n",
       "      <th>15</th>\n",
       "      <td>SG</td>\n",
       "      <td>SG</td>\n",
       "    </tr>\n",
       "    <tr>\n",
       "      <th>16</th>\n",
       "      <td>C</td>\n",
       "      <td>SG</td>\n",
       "    </tr>\n",
       "    <tr>\n",
       "      <th>17</th>\n",
       "      <td>C</td>\n",
       "      <td>C</td>\n",
       "    </tr>\n",
       "    <tr>\n",
       "      <th>18</th>\n",
       "      <td>C</td>\n",
       "      <td>C</td>\n",
       "    </tr>\n",
       "    <tr>\n",
       "      <th>19</th>\n",
       "      <td>SG</td>\n",
       "      <td>C</td>\n",
       "    </tr>\n",
       "  </tbody>\n",
       "</table>\n",
       "</div>"
      ],
      "text/plain": [
       "   prediction: tarket\n",
       "0            C      C\n",
       "1            C      C\n",
       "2            C      C\n",
       "3            C      C\n",
       "4            C      C\n",
       "5           SG     SG\n",
       "6           SG     SG\n",
       "7           SG     SG\n",
       "8            C      C\n",
       "9           SG     SG\n",
       "10           C      C\n",
       "11          SG     SG\n",
       "12           C     SG\n",
       "13           C      C\n",
       "14           C      C\n",
       "15          SG     SG\n",
       "16           C     SG\n",
       "17           C      C\n",
       "18           C      C\n",
       "19          SG      C"
      ]
     },
     "execution_count": 40,
     "metadata": {},
     "output_type": "execute_result"
    }
   ],
   "source": [
    "comparision = pd.DataFrame({'prediction:':pred, 'tarket':y_test.values.ravel()})\n",
    "comparision"
   ]
  },
  {
   "cell_type": "code",
   "execution_count": 41,
   "id": "2ae902de",
   "metadata": {},
   "outputs": [
    {
     "name": "stdout",
     "output_type": "stream",
     "text": [
      "accuracy :0.85\n"
     ]
    }
   ],
   "source": [
    "print('accuracy :' + str(accuracy_score(y_test.values.ravel(), pred)))  # accuracy_score() 정확도를 계산하는 메서드"
   ]
  }
 ],
 "metadata": {
  "kernelspec": {
   "display_name": "Python [conda env:tf_cpu] *",
   "language": "python",
   "name": "conda-env-tf_cpu-py"
  },
  "language_info": {
   "codemirror_mode": {
    "name": "ipython",
    "version": 3
   },
   "file_extension": ".py",
   "mimetype": "text/x-python",
   "name": "python",
   "nbconvert_exporter": "python",
   "pygments_lexer": "ipython3",
   "version": "3.7.13"
  }
 },
 "nbformat": 4,
 "nbformat_minor": 5
}
