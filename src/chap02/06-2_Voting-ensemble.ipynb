{
 "cells": [
  {
   "cell_type": "markdown",
   "id": "0419259f",
   "metadata": {},
   "source": [
    "# 보팅 앙상블\n",
    "- 단일 모델을 앙상블하여 더 나은 예측을 하는 앙상블 모델을 만들어 보겠습니다."
   ]
  },
  {
   "cell_type": "code",
   "execution_count": 1,
   "id": "6ae90c80",
   "metadata": {},
   "outputs": [],
   "source": [
    "from sklearn import datasets\n",
    "from sklearn.tree import DecisionTreeClassifier\n",
    "from sklearn.neighbors import KNeighborsClassifier\n",
    "from sklearn.svm import SVC\n",
    "from sklearn.ensemble import VotingClassifier \n",
    "from sklearn.model_selection import train_test_split\n",
    "from sklearn.metrics import accuracy_score\n",
    "\n",
    "import numpy as np\n",
    "np.random.seed(5)"
   ]
  },
  {
   "cell_type": "code",
   "execution_count": 2,
   "id": "40e4dfd3",
   "metadata": {},
   "outputs": [],
   "source": [
    "# 손글씨 데이터\n",
    "\n",
    "mnist = datasets.load_digits()\n",
    "features, labels = mnist.data, mnist.target\n",
    "\n",
    "X_train, X_test, y_train, y_test = train_test_split(features, labels, test_size=0.2)\n"
   ]
  },
  {
   "cell_type": "markdown",
   "id": "9dd39bff",
   "metadata": {},
   "source": [
    "## 단일 모델 정확도 측정\n",
    "- 의사결정트리, Knn, svm 모델의 정확도를 측정."
   ]
  },
  {
   "cell_type": "code",
   "execution_count": 3,
   "id": "6a4191ae",
   "metadata": {},
   "outputs": [],
   "source": [
    "dtree = DecisionTreeClassifier(criterion='gini',\n",
    "                       max_depth=8,\n",
    "                       max_features=32,\n",
    "                       random_state=35)\n",
    "\n",
    "dtree = dtree.fit(X_train, y_train)\n",
    "dtree_predicted = dtree.predict(X_test)"
   ]
  },
  {
   "cell_type": "code",
   "execution_count": 4,
   "id": "4cd510c4",
   "metadata": {},
   "outputs": [],
   "source": [
    "knn = KNeighborsClassifier(n_neighbors=299).fit(X_train, y_train)\n",
    "knn_predicted = knn.predict(X_test)"
   ]
  },
  {
   "cell_type": "code",
   "execution_count": 5,
   "id": "0031f28a",
   "metadata": {},
   "outputs": [],
   "source": [
    "svm = SVC(C= 0.1, gamma=0.003, probability=True, random_state=35).fit(X_train, y_train)\n",
    "svm_predicted = svm.predict(X_test)"
   ]
  },
  {
   "cell_type": "code",
   "execution_count": 6,
   "id": "fc80a918",
   "metadata": {},
   "outputs": [
    {
     "name": "stdout",
     "output_type": "stream",
     "text": [
      "[accuracy]\n",
      "d_tree :  0.8277777777777777\n",
      "knn    :  0.8944444444444445\n",
      "svm    :  0.8916666666666667\n"
     ]
    }
   ],
   "source": [
    "print('[accuracy]')\n",
    "print('d_tree : ', accuracy_score(y_test, dtree_predicted))\n",
    "print('knn    : ', accuracy_score(y_test, knn_predicted))\n",
    "print('svm    : ', accuracy_score(y_test, svm_predicted))"
   ]
  },
  {
   "cell_type": "code",
   "execution_count": 7,
   "id": "5f486576",
   "metadata": {},
   "outputs": [
    {
     "name": "stdout",
     "output_type": "stream",
     "text": [
      "[[0.00129293 0.00434548 0.00446459 0.00248053 0.00336731 0.93848315\n",
      "  0.00127073 0.00448341 0.02477231 0.01503956]\n",
      " [0.00189233 0.00631647 0.92958418 0.00345522 0.0030971  0.00828454\n",
      "  0.00186869 0.0048112  0.03092707 0.0097632 ]]\n"
     ]
    }
   ],
   "source": [
    "# 직접 소프트보팅을 구현하실 때는 predict_proba() 함수를 사용하여 테스트 수행 시 측정된 분류값별 확류ㄹ을 사용하시면 됩니다\n",
    "\n",
    "svm_proba = svm.predict_proba(X_test)\n",
    "print(svm_proba[0:2])"
   ]
  },
  {
   "cell_type": "markdown",
   "id": "1220fb4d",
   "metadata": {},
   "source": [
    "## 하드 보팅\n",
    "- 하드 보팅은 일반적인 투표와 같이, 각각의 분류기의 예측값들을 모아. 가장 많은 득표를 받은 예측값으로 최종 결론을 내는 방식입니다."
   ]
  },
  {
   "cell_type": "code",
   "execution_count": 9,
   "id": "29a71b7d",
   "metadata": {},
   "outputs": [
    {
     "data": {
      "text/plain": [
       "0.9222222222222223"
      ]
     },
     "execution_count": 9,
     "metadata": {},
     "output_type": "execute_result"
    }
   ],
   "source": [
    "voting_clf = VotingClassifier(estimators=[('decision_tree', dtree), ('knn',knn), ('svm', svm)],\n",
    "                 weights = [1, 1, 1], voting='hard').fit(X_train, y_train) \n",
    "hard_voting_predicted = voting_clf.predict(X_test)\n",
    "accuracy_score(y_test, hard_voting_predicted)"
   ]
  },
  {
   "cell_type": "markdown",
   "id": "72ff3730",
   "metadata": {},
   "source": [
    "## 소프트 보팅\n",
    "- 소프트 보팅은 각각의 분류모델의 predict_proba을 이용하여. 모든 분류의 값들의 확률들을 더해서. 가장높은 점수를 획득한 분류값으로 최종결론내는 방식입니다."
   ]
  },
  {
   "cell_type": "code",
   "execution_count": 10,
   "id": "f43297aa",
   "metadata": {},
   "outputs": [
    {
     "data": {
      "text/plain": [
       "0.8888888888888888"
      ]
     },
     "execution_count": 10,
     "metadata": {},
     "output_type": "execute_result"
    }
   ],
   "source": [
    "voting_clf = VotingClassifier(estimators=[('decision_tree', dtree), ('knn',knn), ('svm', svm)],\n",
    "                 weights = [1, 1, 1], voting='soft').fit(X_train, y_train) \n",
    "soft_voting_predicted = voting_clf.predict(X_test)\n",
    "accuracy_score(y_test, soft_voting_predicted)"
   ]
  },
  {
   "cell_type": "markdown",
   "id": "eec86512",
   "metadata": {},
   "source": [
    "# 정확도 비교 시각화"
   ]
  },
  {
   "cell_type": "code",
   "execution_count": 12,
   "id": "1061e069",
   "metadata": {},
   "outputs": [
    {
     "data": {
      "text/plain": [
       "([<matplotlib.axis.XTick at 0x1d5d2eee808>,\n",
       "  <matplotlib.axis.XTick at 0x1d5d2ee9388>,\n",
       "  <matplotlib.axis.XTick at 0x1d5d2e23788>,\n",
       "  <matplotlib.axis.XTick at 0x1d5d300cbc8>,\n",
       "  <matplotlib.axis.XTick at 0x1d5d3019508>],\n",
       " [Text(0, 0, 'decision tree'),\n",
       "  Text(1, 0, 'knn'),\n",
       "  Text(2, 0, 'svm'),\n",
       "  Text(3, 0, 'hart voting'),\n",
       "  Text(4, 0, 'soft voting')])"
      ]
     },
     "execution_count": 12,
     "metadata": {},
     "output_type": "execute_result"
    },
    {
     "data": {
      "image/png": "[encoded data removed]",
      "text/plain": [
       "<Figure size 640x480 with 1 Axes>"
      ]
     },
     "metadata": {},
     "output_type": "display_data"
    }
   ],
   "source": [
    "import matplotlib.pyplot as plt\n",
    "\n",
    "x = np.arange(5)\n",
    "plt.bar(x, height = [accuracy_score(y_test, dtree_predicted),\n",
    "                    accuracy_score(y_test, knn_predicted),\n",
    "                    accuracy_score(y_test, svm_predicted),\n",
    "                    accuracy_score(y_test, hard_voting_predicted),\n",
    "                    accuracy_score(y_test, soft_voting_predicted)\n",
    "                    ])\n",
    "\n",
    "plt.xticks(x, ['decision tree', 'knn', 'svm', 'hart voting','soft voting'])"
   ]
  },
  {
   "cell_type": "code",
   "execution_count": null,
   "id": "31655766",
   "metadata": {},
   "outputs": [],
   "source": []
  }
 ],
 "metadata": {
  "kernelspec": {
   "display_name": "Python [conda env:tf_cpu] *",
   "language": "python",
   "name": "conda-env-tf_cpu-py"
  },
  "language_info": {
   "codemirror_mode": {
    "name": "ipython",
    "version": 3
   },
   "file_extension": ".py",
   "mimetype": "text/x-python",
   "name": "python",
   "nbconvert_exporter": "python",
   "pygments_lexer": "ipython3",
   "version": "3.7.13"
  }
 },
 "nbformat": 4,
 "nbformat_minor": 5
}
