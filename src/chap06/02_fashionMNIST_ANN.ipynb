{
 "cells": [
  {
   "cell_type": "code",
   "execution_count": 1,
   "id": "12128cd8",
   "metadata": {},
   "outputs": [],
   "source": [
    "import tensorflow as tf\n",
    "from sklearn.model_selection import train_test_split\n",
    "\n",
    "(train_input, train_target), (test_input, test_target) = tf.keras.datasets.fashion_mnist.load_data()\n",
    "\n",
    "train_scaled = train_input / 255.0  # 정규화 : 1과 0사이의 값으로 정규화시킨다.\n",
    "train_scaled = train_scaled.reshape(-1 , 28 * 28 ) # 3차원이였던 데이터를 2차원으로 형변환 \n"
   ]
  },
  {
   "cell_type": "code",
   "execution_count": 2,
   "id": "e1711cfb",
   "metadata": {},
   "outputs": [],
   "source": [
    "train_scaled, val_scaled, train_target, val_target = train_test_split(train_scaled, train_target, test_size= 0.2, random_state=42)"
   ]
  },
  {
   "cell_type": "code",
   "execution_count": 3,
   "id": "9745370f",
   "metadata": {},
   "outputs": [
    {
     "name": "stdout",
     "output_type": "stream",
     "text": [
      "(48000, 784) (48000,)\n",
      "(12000, 784) (12000,)\n"
     ]
    }
   ],
   "source": [
    "print(train_scaled.shape, train_target.shape)\n",
    "print(val_scaled.shape, val_target.shape)"
   ]
  },
  {
   "cell_type": "code",
   "execution_count": 4,
   "id": "fe1e115f",
   "metadata": {},
   "outputs": [],
   "source": [
    "model = tf.keras.Sequential()\n",
    "model.add(tf.keras.layers.Dense(units=10, input_shape=(28*28,),activation='softmax'))"
   ]
  },
  {
   "cell_type": "code",
   "execution_count": 6,
   "id": "f5bbcab8",
   "metadata": {},
   "outputs": [],
   "source": [
    "#sparse_categorical_crossentropy : one-hot encoder로 변경해준다.\n",
    "model.compile(loss='sparse_categorical_crossentropy', optimizer='sgd',metrics='accuracy')"
   ]
  },
  {
   "cell_type": "code",
   "execution_count": 7,
   "id": "2264fd1c",
   "metadata": {},
   "outputs": [
    {
     "name": "stdout",
     "output_type": "stream",
     "text": [
      "Epoch 1/10\n",
      "1500/1500 [==============================] - 2s 878us/step - loss: 0.6124 - accuracy: 0.7935\n",
      "Epoch 2/10\n",
      "1500/1500 [==============================] - 1s 867us/step - loss: 0.4784 - accuracy: 0.8398\n",
      "Epoch 3/10\n",
      "1500/1500 [==============================] - 1s 867us/step - loss: 0.4546 - accuracy: 0.8482\n",
      "Epoch 4/10\n",
      "1500/1500 [==============================] - 1s 866us/step - loss: 0.4447 - accuracy: 0.8534\n",
      "Epoch 5/10\n",
      "1500/1500 [==============================] - 1s 871us/step - loss: 0.4364 - accuracy: 0.8554\n",
      "Epoch 6/10\n",
      "1500/1500 [==============================] - 1s 873us/step - loss: 0.4317 - accuracy: 0.8573\n",
      "Epoch 7/10\n",
      "1500/1500 [==============================] - 1s 867us/step - loss: 0.4270 - accuracy: 0.8578\n",
      "Epoch 8/10\n",
      "1500/1500 [==============================] - 1s 871us/step - loss: 0.4242 - accuracy: 0.8608\n",
      "Epoch 9/10\n",
      "1500/1500 [==============================] - 1s 874us/step - loss: 0.4215 - accuracy: 0.8610\n",
      "Epoch 10/10\n",
      "1500/1500 [==============================] - 1s 867us/step - loss: 0.4195 - accuracy: 0.8619\n"
     ]
    },
    {
     "data": {
      "text/plain": [
       "<keras.callbacks.History at 0x2119c61cd88>"
      ]
     },
     "execution_count": 7,
     "metadata": {},
     "output_type": "execute_result"
    }
   ],
   "source": [
    "model.fit(train_scaled, train_target, epochs=10)"
   ]
  },
  {
   "cell_type": "code",
   "execution_count": 8,
   "id": "863f5c57",
   "metadata": {},
   "outputs": [
    {
     "name": "stdout",
     "output_type": "stream",
     "text": [
      "375/375 [==============================] - 0s 838us/step - loss: 0.4469 - accuracy: 0.8537\n"
     ]
    },
    {
     "data": {
      "text/plain": [
       "[0.44685888290405273, 0.8537499904632568]"
      ]
     },
     "execution_count": 8,
     "metadata": {},
     "output_type": "execute_result"
    }
   ],
   "source": [
    " model.evaluate(val_scaled, val_target)"
   ]
  },
  {
   "cell_type": "code",
   "execution_count": 12,
   "id": "5d8f0ae0",
   "metadata": {},
   "outputs": [
    {
     "ename": "AttributeError",
     "evalue": "'Sequential' object has no attribute 'tf'",
     "output_type": "error",
     "traceback": [
      "\u001b[1;31m---------------------------------------------------------------------------\u001b[0m",
      "\u001b[1;31mAttributeError\u001b[0m                            Traceback (most recent call last)",
      "\u001b[1;32m~\\AppData\\Local\\Temp\\ipykernel_18004\\2290381507.py\u001b[0m in \u001b[0;36m<module>\u001b[1;34m\u001b[0m\n\u001b[1;32m----> 1\u001b[1;33m \u001b[0mmodel\u001b[0m\u001b[1;33m.\u001b[0m\u001b[0mtf\u001b[0m\u001b[1;33m.\u001b[0m\u001b[0margmax\u001b[0m\u001b[1;33m(\u001b[0m\u001b[0mtest_target\u001b[0m\u001b[1;33m,\u001b[0m\u001b[0maxis\u001b[0m\u001b[1;33m=\u001b[0m\u001b[1;36m1\u001b[0m\u001b[1;33m)\u001b[0m\u001b[1;33m\u001b[0m\u001b[1;33m\u001b[0m\u001b[0m\n\u001b[0m",
      "\u001b[1;31mAttributeError\u001b[0m: 'Sequential' object has no attribute 'tf'"
     ]
    }
   ],
   "source": []
  },
  {
   "cell_type": "code",
   "execution_count": null,
   "id": "28bd406a",
   "metadata": {},
   "outputs": [],
   "source": []
  }
 ],
 "metadata": {
  "kernelspec": {
   "display_name": "Python [conda env:tf_cpu] *",
   "language": "python",
   "name": "conda-env-tf_cpu-py"
  },
  "language_info": {
   "codemirror_mode": {
    "name": "ipython",
    "version": 3
   },
   "file_extension": ".py",
   "mimetype": "text/x-python",
   "name": "python",
   "nbconvert_exporter": "python",
   "pygments_lexer": "ipython3",
   "version": "3.7.13"
  }
 },
 "nbformat": 4,
 "nbformat_minor": 5
}
