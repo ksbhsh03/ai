{
 "cells": [
  {
   "cell_type": "code",
   "execution_count": 1,
   "id": "5006eed6",
   "metadata": {},
   "outputs": [],
   "source": [
    "from tensorflow import keras\n",
    "\n",
    "(train_input, train_target), (test_input, test_target) = keras.datasets.fashion_mnist.load_data()"
   ]
  },
  {
   "cell_type": "code",
   "execution_count": 2,
   "id": "f8885a2f",
   "metadata": {},
   "outputs": [],
   "source": [
    "from sklearn.model_selection import train_test_split\n",
    "\n",
    "train_scaled = train_input / 255.0  #정규화 : 1과 0사이의 값으로 통일시킨다.\n",
    "train_scaled = train_input.reshape(-1, 28 * 28)  # 3차원이였던 데이터를 3차원으로 형변환시킨다.\n",
    "\n",
    "train_scaled, val_scaled, train_target, val_target = train_test_split(train_scaled, train_target, test_size=0.2, random_state=42)"
   ]
  },
  {
   "cell_type": "code",
   "execution_count": 9,
   "id": "48c41641",
   "metadata": {},
   "outputs": [],
   "source": [
    "model = keras.Sequential()\n",
    "# Xavier 초기값 세팅 방법 :  kernel_initializer='glorot_normal'\n",
    "model.add(keras.layers.Dense(units=521, activation='relu', input_shape=(28 * 28,), kernel_initializer='glorot_normal')) \n",
    "model.add(keras.layers.Dense(units=512, activation='relu', kernel_initializer='glorot_normal'))\n",
    "model.add(keras.layers.Dense(units=512, activation='relu', kernel_initializer='glorot_normal'))\n",
    "model.add(keras.layers.Dense(units=512, activation='relu', kernel_initializer='glorot_normal'))\n",
    "model.add(keras.layers.Dense(units=10, activation='softmax', kernel_initializer='glorot_normal'))"
   ]
  },
  {
   "cell_type": "code",
   "execution_count": 10,
   "id": "46124f1c",
   "metadata": {},
   "outputs": [],
   "source": [
    "model.compile(optimizer = keras.optimizers.Adam(learning_rate=0.001),loss='sparse_categorical_crossentropy' ,metrics='accuracy')"
   ]
  },
  {
   "cell_type": "code",
   "execution_count": 11,
   "id": "0f5176f9",
   "metadata": {},
   "outputs": [
    {
     "name": "stdout",
     "output_type": "stream",
     "text": [
      "Model: \"sequential_2\"\n",
      "_________________________________________________________________\n",
      " Layer (type)                Output Shape              Param #   \n",
      "=================================================================\n",
      " dense_4 (Dense)             (None, 521)               408985    \n",
      "                                                                 \n",
      " dense_5 (Dense)             (None, 512)               267264    \n",
      "                                                                 \n",
      " dense_6 (Dense)             (None, 512)               262656    \n",
      "                                                                 \n",
      " dense_7 (Dense)             (None, 512)               262656    \n",
      "                                                                 \n",
      " dense_8 (Dense)             (None, 10)                5130      \n",
      "                                                                 \n",
      "=================================================================\n",
      "Total params: 1,206,691\n",
      "Trainable params: 1,206,691\n",
      "Non-trainable params: 0\n",
      "_________________________________________________________________\n"
     ]
    }
   ],
   "source": [
    "model.summary()"
   ]
  },
  {
   "cell_type": "code",
   "execution_count": 12,
   "id": "b05b13f4",
   "metadata": {},
   "outputs": [
    {
     "name": "stdout",
     "output_type": "stream",
     "text": [
      "Epoch 1/50\n",
      "480/480 [==============================] - 9s 17ms/step - loss: 2.5365 - accuracy: 0.7792\n",
      "Epoch 2/50\n",
      "480/480 [==============================] - 6s 13ms/step - loss: 0.4313 - accuracy: 0.8456\n",
      "Epoch 3/50\n",
      "480/480 [==============================] - 7s 13ms/step - loss: 0.3878 - accuracy: 0.8589\n",
      "Epoch 4/50\n",
      "480/480 [==============================] - 7s 15ms/step - loss: 0.3649 - accuracy: 0.8661\n",
      "Epoch 5/50\n",
      "480/480 [==============================] - 11s 22ms/step - loss: 0.3570 - accuracy: 0.8695\n",
      "Epoch 6/50\n",
      "480/480 [==============================] - 7s 15ms/step - loss: 0.3342 - accuracy: 0.8778\n",
      "Epoch 7/50\n",
      "480/480 [==============================] - 6s 13ms/step - loss: 0.3333 - accuracy: 0.8770\n",
      "Epoch 8/50\n",
      "480/480 [==============================] - 6s 13ms/step - loss: 0.3250 - accuracy: 0.8817\n",
      "Epoch 9/50\n",
      "480/480 [==============================] - 5s 11ms/step - loss: 0.3159 - accuracy: 0.8842\n",
      "Epoch 10/50\n",
      "480/480 [==============================] - 5s 11ms/step - loss: 0.3117 - accuracy: 0.8854\n",
      "Epoch 11/50\n",
      "480/480 [==============================] - 5s 10ms/step - loss: 0.3061 - accuracy: 0.8882\n",
      "Epoch 12/50\n",
      "480/480 [==============================] - 6s 12ms/step - loss: 0.2986 - accuracy: 0.8896\n",
      "Epoch 13/50\n",
      "480/480 [==============================] - 6s 12ms/step - loss: 0.2979 - accuracy: 0.8906\n",
      "Epoch 14/50\n",
      "480/480 [==============================] - 7s 15ms/step - loss: 0.2739 - accuracy: 0.8990\n",
      "Epoch 15/50\n",
      "480/480 [==============================] - 7s 15ms/step - loss: 0.2794 - accuracy: 0.8971\n",
      "Epoch 16/50\n",
      "480/480 [==============================] - 7s 14ms/step - loss: 0.2712 - accuracy: 0.9001\n",
      "Epoch 17/50\n",
      "480/480 [==============================] - 7s 14ms/step - loss: 0.2662 - accuracy: 0.9028\n",
      "Epoch 18/50\n",
      "480/480 [==============================] - 7s 14ms/step - loss: 0.2667 - accuracy: 0.9013\n",
      "Epoch 19/50\n",
      "480/480 [==============================] - 7s 15ms/step - loss: 0.2604 - accuracy: 0.9038\n",
      "Epoch 20/50\n",
      "480/480 [==============================] - 8s 16ms/step - loss: 0.2466 - accuracy: 0.9090\n",
      "Epoch 21/50\n",
      "480/480 [==============================] - 7s 14ms/step - loss: 0.2473 - accuracy: 0.9083\n",
      "Epoch 22/50\n",
      "480/480 [==============================] - 7s 14ms/step - loss: 0.2428 - accuracy: 0.9106\n",
      "Epoch 23/50\n",
      "480/480 [==============================] - 7s 14ms/step - loss: 0.2441 - accuracy: 0.9103\n",
      "Epoch 24/50\n",
      "480/480 [==============================] - 7s 15ms/step - loss: 0.2416 - accuracy: 0.9116\n",
      "Epoch 25/50\n",
      "480/480 [==============================] - 7s 15ms/step - loss: 0.2331 - accuracy: 0.9149\n",
      "Epoch 26/50\n",
      "480/480 [==============================] - 7s 15ms/step - loss: 0.2314 - accuracy: 0.9170\n",
      "Epoch 27/50\n",
      "480/480 [==============================] - 7s 14ms/step - loss: 0.2255 - accuracy: 0.9177\n",
      "Epoch 28/50\n",
      "480/480 [==============================] - 7s 14ms/step - loss: 0.2232 - accuracy: 0.9177\n",
      "Epoch 29/50\n",
      "480/480 [==============================] - 8s 16ms/step - loss: 0.2145 - accuracy: 0.9201\n",
      "Epoch 30/50\n",
      "480/480 [==============================] - 8s 17ms/step - loss: 0.2120 - accuracy: 0.9203\n",
      "Epoch 31/50\n",
      "480/480 [==============================] - 6s 13ms/step - loss: 0.2117 - accuracy: 0.9220\n",
      "Epoch 32/50\n",
      "480/480 [==============================] - 6s 12ms/step - loss: 0.2018 - accuracy: 0.9244\n",
      "Epoch 33/50\n",
      "480/480 [==============================] - 7s 14ms/step - loss: 0.2043 - accuracy: 0.9252\n",
      "Epoch 34/50\n",
      "480/480 [==============================] - 7s 15ms/step - loss: 0.1988 - accuracy: 0.9268\n",
      "Epoch 35/50\n",
      "480/480 [==============================] - 7s 15ms/step - loss: 0.1912 - accuracy: 0.9288\n",
      "Epoch 36/50\n",
      "480/480 [==============================] - 7s 15ms/step - loss: 0.1960 - accuracy: 0.9277\n",
      "Epoch 37/50\n",
      "480/480 [==============================] - 7s 14ms/step - loss: 0.1953 - accuracy: 0.9272\n",
      "Epoch 38/50\n",
      "480/480 [==============================] - 7s 14ms/step - loss: 0.2112 - accuracy: 0.9255\n",
      "Epoch 39/50\n",
      "480/480 [==============================] - 7s 14ms/step - loss: 0.1918 - accuracy: 0.9281\n",
      "Epoch 40/50\n",
      "480/480 [==============================] - 7s 14ms/step - loss: 0.1838 - accuracy: 0.9315\n",
      "Epoch 41/50\n",
      "480/480 [==============================] - 7s 15ms/step - loss: 0.1780 - accuracy: 0.9335\n",
      "Epoch 42/50\n",
      "480/480 [==============================] - 7s 15ms/step - loss: 0.1869 - accuracy: 0.9334\n",
      "Epoch 43/50\n",
      "480/480 [==============================] - 7s 15ms/step - loss: 0.1792 - accuracy: 0.9339\n",
      "Epoch 44/50\n",
      "480/480 [==============================] - 7s 15ms/step - loss: 0.1651 - accuracy: 0.9390\n",
      "Epoch 45/50\n",
      "480/480 [==============================] - 8s 16ms/step - loss: 0.1775 - accuracy: 0.9349\n",
      "Epoch 46/50\n",
      "480/480 [==============================] - 7s 15ms/step - loss: 0.1727 - accuracy: 0.9367\n",
      "Epoch 47/50\n",
      "480/480 [==============================] - 7s 15ms/step - loss: 0.1706 - accuracy: 0.9371\n",
      "Epoch 48/50\n",
      "480/480 [==============================] - 7s 15ms/step - loss: 0.1619 - accuracy: 0.9390\n",
      "Epoch 49/50\n",
      "480/480 [==============================] - 7s 14ms/step - loss: 0.1698 - accuracy: 0.9377\n",
      "Epoch 50/50\n",
      "480/480 [==============================] - 7s 14ms/step - loss: 0.1539 - accuracy: 0.9441\n"
     ]
    },
    {
     "data": {
      "text/plain": [
       "<keras.callbacks.History at 0x20896a69dc8>"
      ]
     },
     "execution_count": 12,
     "metadata": {},
     "output_type": "execute_result"
    }
   ],
   "source": [
    "model.fit(train_scaled, train_target, epochs=50, batch_size=100)"
   ]
  },
  {
   "cell_type": "code",
   "execution_count": 8,
   "id": "79d9a34c",
   "metadata": {},
   "outputs": [
    {
     "name": "stdout",
     "output_type": "stream",
     "text": [
      "375/375 [==============================] - 1s 2ms/step - loss: 0.4407 - accuracy: 0.8766\n"
     ]
    },
    {
     "data": {
      "text/plain": [
       "[0.44074591994285583, 0.8765833377838135]"
      ]
     },
     "execution_count": 8,
     "metadata": {},
     "output_type": "execute_result"
    }
   ],
   "source": [
    "model.evaluate(val_scaled, val_target)"
   ]
  },
  {
   "cell_type": "code",
   "execution_count": null,
   "id": "c7fbfeb2",
   "metadata": {},
   "outputs": [],
   "source": []
  }
 ],
 "metadata": {
  "kernelspec": {
   "display_name": "Python [conda env:tf_cpu] *",
   "language": "python",
   "name": "conda-env-tf_cpu-py"
  },
  "language_info": {
   "codemirror_mode": {
    "name": "ipython",
    "version": 3
   },
   "file_extension": ".py",
   "mimetype": "text/x-python",
   "name": "python",
   "nbconvert_exporter": "python",
   "pygments_lexer": "ipython3",
   "version": "3.7.13"
  }
 },
 "nbformat": 4,
 "nbformat_minor": 5
}
