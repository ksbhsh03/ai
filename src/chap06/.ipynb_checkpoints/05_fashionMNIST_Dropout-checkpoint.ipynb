{
 "cells": [
  {
   "cell_type": "code",
   "execution_count": 1,
   "id": "72eafe0c",
   "metadata": {},
   "outputs": [],
   "source": [
    "from tensorflow import keras\n",
    "\n",
    "(train_input, train_target), (test_input, test_target) = keras.datasets.fashion_mnist.load_data()"
   ]
  },
  {
   "cell_type": "code",
   "execution_count": 2,
   "id": "c4243d09",
   "metadata": {},
   "outputs": [],
   "source": [
    "from sklearn.model_selection import train_test_split\n",
    "\n",
    "train_scaled = train_input / 255.0  #정규화 : 1과 0사이의 값으로 통일시킨다.\n",
    "train_scaled = train_input.reshape(-1, 28 * 28)  # 3차원이였던 데이터를 3차원으로 형변환시킨다.\n",
    "\n",
    "train_scaled, val_scaled, train_target, val_target = train_test_split(train_scaled, train_target, test_size=0.2, random_state=42)"
   ]
  },
  {
   "cell_type": "code",
   "execution_count": 3,
   "id": "b77e980a",
   "metadata": {},
   "outputs": [],
   "source": [
    "model = keras.Sequential()\n",
    "# Xavier 초기값 세팅 방법 :  kernel_initializer='glorot_normal'\n",
    "model.add(keras.layers.Dense(units=512, activation='relu', input_shape=(28 * 28,), kernel_initializer='glorot_normal')) \n",
    "model.add(keras.layers.Dropout(0.3))\n",
    "model.add(keras.layers.Dense(units=512, activation='relu', kernel_initializer='glorot_normal'))\n",
    "model.add(keras.layers.Dropout(0.3))\n",
    "model.add(keras.layers.Dense(units=512, activation='relu', kernel_initializer='glorot_normal'))\n",
    "model.add(keras.layers.Dropout(0.3))\n",
    "model.add(keras.layers.Dense(units=512, activation='relu', kernel_initializer='glorot_normal'))\n",
    "model.add(keras.layers.Dropout(0.3))\n",
    "model.add(keras.layers.Dense(units=10, activation='softmax', kernel_initializer='glorot_normal'))"
   ]
  },
  {
   "cell_type": "code",
   "execution_count": 4,
   "id": "261d0e1f",
   "metadata": {},
   "outputs": [],
   "source": [
    "model.compile(optimizer = keras.optimizers.Adam(learning_rate=0.001),loss='sparse_categorical_crossentropy' ,metrics='accuracy')"
   ]
  },
  {
   "cell_type": "code",
   "execution_count": 5,
   "id": "04b6ba59",
   "metadata": {},
   "outputs": [
    {
     "name": "stdout",
     "output_type": "stream",
     "text": [
      "Model: \"sequential\"\n",
      "_________________________________________________________________\n",
      " Layer (type)                Output Shape              Param #   \n",
      "=================================================================\n",
      " dense (Dense)               (None, 512)               401920    \n",
      "                                                                 \n",
      " dropout (Dropout)           (None, 512)               0         \n",
      "                                                                 \n",
      " dense_1 (Dense)             (None, 512)               262656    \n",
      "                                                                 \n",
      " dropout_1 (Dropout)         (None, 512)               0         \n",
      "                                                                 \n",
      " dense_2 (Dense)             (None, 512)               262656    \n",
      "                                                                 \n",
      " dropout_2 (Dropout)         (None, 512)               0         \n",
      "                                                                 \n",
      " dense_3 (Dense)             (None, 512)               262656    \n",
      "                                                                 \n",
      " dropout_3 (Dropout)         (None, 512)               0         \n",
      "                                                                 \n",
      " dense_4 (Dense)             (None, 10)                5130      \n",
      "                                                                 \n",
      "=================================================================\n",
      "Total params: 1,195,018\n",
      "Trainable params: 1,195,018\n",
      "Non-trainable params: 0\n",
      "_________________________________________________________________\n"
     ]
    }
   ],
   "source": [
    "model.summary()"
   ]
  },
  {
   "cell_type": "code",
   "execution_count": 6,
   "id": "daa63997",
   "metadata": {
    "scrolled": true
   },
   "outputs": [
    {
     "name": "stdout",
     "output_type": "stream",
     "text": [
      "Epoch 1/50\n",
      "480/480 [==============================] - 9s 17ms/step - loss: 2.8170 - accuracy: 0.6237\n",
      "Epoch 2/50\n",
      "480/480 [==============================] - 9s 19ms/step - loss: 0.7695 - accuracy: 0.7284\n",
      "Epoch 3/50\n",
      "480/480 [==============================] - 9s 18ms/step - loss: 0.6613 - accuracy: 0.7615\n",
      "Epoch 4/50\n",
      "480/480 [==============================] - 9s 19ms/step - loss: 0.5996 - accuracy: 0.7816\n",
      "Epoch 5/50\n",
      "480/480 [==============================] - 9s 18ms/step - loss: 0.5661 - accuracy: 0.7930\n",
      "Epoch 6/50\n",
      "480/480 [==============================] - 9s 19ms/step - loss: 0.5500 - accuracy: 0.7991\n",
      "Epoch 7/50\n",
      "480/480 [==============================] - 9s 19ms/step - loss: 0.5389 - accuracy: 0.8019\n",
      "Epoch 8/50\n",
      "480/480 [==============================] - 10s 20ms/step - loss: 0.5241 - accuracy: 0.8079\n",
      "Epoch 9/50\n",
      "480/480 [==============================] - 8s 17ms/step - loss: 0.5126 - accuracy: 0.8084\n",
      "Epoch 10/50\n",
      "480/480 [==============================] - 7s 14ms/step - loss: 0.5183 - accuracy: 0.8128\n",
      "Epoch 11/50\n",
      "480/480 [==============================] - 7s 14ms/step - loss: 0.5182 - accuracy: 0.8124\n",
      "Epoch 12/50\n",
      "480/480 [==============================] - 6s 13ms/step - loss: 0.5123 - accuracy: 0.8139\n",
      "Epoch 13/50\n",
      "480/480 [==============================] - 6s 13ms/step - loss: 0.5093 - accuracy: 0.8141\n",
      "Epoch 14/50\n",
      "480/480 [==============================] - 9s 19ms/step - loss: 0.5058 - accuracy: 0.8174\n",
      "Epoch 15/50\n",
      "480/480 [==============================] - 23s 48ms/step - loss: 0.5007 - accuracy: 0.8198\n",
      "Epoch 16/50\n",
      "480/480 [==============================] - 8s 16ms/step - loss: 0.4986 - accuracy: 0.8242\n",
      "Epoch 17/50\n",
      "480/480 [==============================] - 10s 20ms/step - loss: 0.4895 - accuracy: 0.8253\n",
      "Epoch 18/50\n",
      "480/480 [==============================] - 8s 18ms/step - loss: 0.4962 - accuracy: 0.8243\n",
      "Epoch 19/50\n",
      "480/480 [==============================] - 12s 24ms/step - loss: 0.5008 - accuracy: 0.8234\n",
      "Epoch 20/50\n",
      "480/480 [==============================] - 15s 32ms/step - loss: 0.4929 - accuracy: 0.8261\n",
      "Epoch 21/50\n",
      "480/480 [==============================] - 9s 19ms/step - loss: 0.4870 - accuracy: 0.8297\n",
      "Epoch 22/50\n",
      "480/480 [==============================] - 9s 18ms/step - loss: 0.4893 - accuracy: 0.8292\n",
      "Epoch 23/50\n",
      "480/480 [==============================] - 10s 22ms/step - loss: 0.4906 - accuracy: 0.8281\n",
      "Epoch 24/50\n",
      "480/480 [==============================] - 10s 22ms/step - loss: 0.4906 - accuracy: 0.8271\n",
      "Epoch 25/50\n",
      "480/480 [==============================] - 10s 21ms/step - loss: 0.4862 - accuracy: 0.8284\n",
      "Epoch 26/50\n",
      "480/480 [==============================] - 10s 20ms/step - loss: 0.4857 - accuracy: 0.8249\n",
      "Epoch 27/50\n",
      "480/480 [==============================] - 10s 20ms/step - loss: 0.4874 - accuracy: 0.8306\n",
      "Epoch 28/50\n",
      "480/480 [==============================] - 13s 28ms/step - loss: 0.4830 - accuracy: 0.8337\n",
      "Epoch 29/50\n",
      "480/480 [==============================] - 13s 28ms/step - loss: 0.4828 - accuracy: 0.8303\n",
      "Epoch 30/50\n",
      "480/480 [==============================] - 9s 19ms/step - loss: 0.4724 - accuracy: 0.8362\n",
      "Epoch 31/50\n",
      "480/480 [==============================] - 8s 16ms/step - loss: 0.4746 - accuracy: 0.8346\n",
      "Epoch 32/50\n",
      "480/480 [==============================] - 7s 14ms/step - loss: 0.4802 - accuracy: 0.8341\n",
      "Epoch 33/50\n",
      "480/480 [==============================] - 7s 14ms/step - loss: 0.4690 - accuracy: 0.8353\n",
      "Epoch 34/50\n",
      "480/480 [==============================] - 8s 16ms/step - loss: 0.4749 - accuracy: 0.8314\n",
      "Epoch 35/50\n",
      "480/480 [==============================] - 7s 14ms/step - loss: 0.4721 - accuracy: 0.8331\n",
      "Epoch 36/50\n",
      "480/480 [==============================] - 7s 14ms/step - loss: 0.4779 - accuracy: 0.8349\n",
      "Epoch 37/50\n",
      "480/480 [==============================] - 7s 14ms/step - loss: 0.4751 - accuracy: 0.8354\n",
      "Epoch 38/50\n",
      "480/480 [==============================] - 7s 14ms/step - loss: 0.4621 - accuracy: 0.8394\n",
      "Epoch 39/50\n",
      "480/480 [==============================] - 9s 20ms/step - loss: 0.4540 - accuracy: 0.8405\n",
      "Epoch 40/50\n",
      "480/480 [==============================] - 7s 15ms/step - loss: 0.4613 - accuracy: 0.8388\n",
      "Epoch 41/50\n",
      "480/480 [==============================] - 7s 15ms/step - loss: 0.4556 - accuracy: 0.8414\n",
      "Epoch 42/50\n",
      "480/480 [==============================] - 7s 14ms/step - loss: 0.4713 - accuracy: 0.8342\n",
      "Epoch 43/50\n",
      "480/480 [==============================] - 7s 14ms/step - loss: 0.4862 - accuracy: 0.8334\n",
      "Epoch 44/50\n",
      "480/480 [==============================] - 7s 14ms/step - loss: 0.4801 - accuracy: 0.8373\n",
      "Epoch 45/50\n",
      "480/480 [==============================] - 7s 14ms/step - loss: 0.4737 - accuracy: 0.8330\n",
      "Epoch 46/50\n",
      "480/480 [==============================] - 7s 14ms/step - loss: 0.4672 - accuracy: 0.8359\n",
      "Epoch 47/50\n",
      "480/480 [==============================] - 7s 14ms/step - loss: 0.4671 - accuracy: 0.8393\n",
      "Epoch 48/50\n",
      "480/480 [==============================] - 7s 14ms/step - loss: 0.4807 - accuracy: 0.8308\n",
      "Epoch 49/50\n",
      "480/480 [==============================] - 10s 22ms/step - loss: 0.4885 - accuracy: 0.8291\n",
      "Epoch 50/50\n",
      "480/480 [==============================] - 9s 19ms/step - loss: 0.4787 - accuracy: 0.8334\n"
     ]
    },
    {
     "data": {
      "text/plain": [
       "<keras.callbacks.History at 0x20497427688>"
      ]
     },
     "execution_count": 6,
     "metadata": {},
     "output_type": "execute_result"
    }
   ],
   "source": [
    "model.fit(train_scaled, train_target, epochs=50, batch_size=100)"
   ]
  },
  {
   "cell_type": "code",
   "execution_count": 8,
   "id": "d63bd39f",
   "metadata": {},
   "outputs": [
    {
     "name": "stdout",
     "output_type": "stream",
     "text": [
      "375/375 [==============================] - 1s 3ms/step - loss: 0.4453 - accuracy: 0.8612\n"
     ]
    },
    {
     "data": {
      "text/plain": [
       "[0.4452770948410034, 0.8611666560173035]"
      ]
     },
     "execution_count": 8,
     "metadata": {},
     "output_type": "execute_result"
    }
   ],
   "source": [
    "model.evaluate(val_scaled, val_target)"
   ]
  },
  {
   "cell_type": "code",
   "execution_count": null,
   "id": "d17fc672",
   "metadata": {},
   "outputs": [],
   "source": []
  }
 ],
 "metadata": {
  "kernelspec": {
   "display_name": "Python [conda env:tf_cpu] *",
   "language": "python",
   "name": "conda-env-tf_cpu-py"
  },
  "language_info": {
   "codemirror_mode": {
    "name": "ipython",
    "version": 3
   },
   "file_extension": ".py",
   "mimetype": "text/x-python",
   "name": "python",
   "nbconvert_exporter": "python",
   "pygments_lexer": "ipython3",
   "version": "3.7.13"
  }
 },
 "nbformat": 4,
 "nbformat_minor": 5
}
