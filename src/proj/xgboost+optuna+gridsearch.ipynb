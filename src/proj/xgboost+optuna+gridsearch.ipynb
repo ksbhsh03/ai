{
 "cells": [
  {
   "cell_type": "code",
   "execution_count": 1,
   "id": "0727902b",
   "metadata": {},
   "outputs": [],
   "source": [
    "import pandas as pd\n",
    "import random\n",
    "import os\n",
    "import numpy as np\n",
    "import warnings\n",
    "warnings.filterwarnings('ignore')\n",
    "from xgboost import plot_importance\n",
    "from sklearn.model_selection import train_test_split\n",
    "from sklearn.model_selection import GridSearchCV\n",
    "from sklearn import preprocessing\n",
    "from sklearn.ensemble import RandomForestClassifier\n",
    "from xgboost import XGBClassifier\n",
    "from sklearn.cluster import KMeans\n",
    "import psutil\n",
    "import optuna\n",
    "import time\n",
    "from optuna.samplers import TPESampler\n",
    "from optuna import Trial\n",
    "from sklearn.model_selection import cross_val_score\n",
    "from sklearn.metrics import accuracy_score # 정확도\n",
    "from sklearn.metrics import precision_score, recall_score # 정밀도, 재현률\n",
    "from sklearn.metrics import f1_score\n",
    "from sklearn.model_selection import KFold, StratifiedKFold, StratifiedShuffleSplit, StratifiedKFold, cross_val_score"
   ]
  },
  {
   "cell_type": "code",
   "execution_count": 25,
   "id": "19ea7d60",
   "metadata": {},
   "outputs": [],
   "source": [
    "# 시드고정\n",
    "class CFG:\n",
    "    SEED = 42"
   ]
  },
  {
   "cell_type": "code",
   "execution_count": 26,
   "id": "a89accd4",
   "metadata": {},
   "outputs": [],
   "source": [
    "def seed_everything(seed):\n",
    "    random.seed(seed)\n",
    "    os.environ['PYTHONHASHSEED'] = str(seed)\n",
    "    np.random.seed(seed)\n",
    "seed_everything(CFG.SEED) # Seed 고정"
   ]
  },
  {
   "cell_type": "code",
   "execution_count": 27,
   "id": "b2d62e6e",
   "metadata": {},
   "outputs": [],
   "source": [
    "# 파일 읽어오기\n",
    "train = pd.read_csv('open/train.csv')\n",
    "test = pd.read_csv('open/test.csv')\n"
   ]
  },
  {
   "cell_type": "code",
   "execution_count": 28,
   "id": "da0784b1",
   "metadata": {},
   "outputs": [],
   "source": [
    "def get_x_y(df):\n",
    "    if 'class' in df.columns:\n",
    "        df_x = df.drop(columns=['id', 'class','father','mother','gender'])\n",
    "        df_y = df['class']\n",
    "        return df_x, df_y\n",
    "    else:\n",
    "        df_x = df.drop(columns=['id','father','mother','gender'])\n",
    "        return df_x"
   ]
  },
  {
   "cell_type": "code",
   "execution_count": 29,
   "id": "132f3c4d",
   "metadata": {},
   "outputs": [],
   "source": [
    "train_x, train_y = get_x_y(train)\n",
    "test_x = get_x_y(test)"
   ]
  },
  {
   "cell_type": "code",
   "execution_count": 30,
   "id": "f707fb43",
   "metadata": {},
   "outputs": [],
   "source": [
    "class_le = preprocessing.LabelEncoder()\n",
    "snp_le = preprocessing.LabelEncoder()\n",
    "snp_col = [f'SNP_{str(x).zfill(2)}' for x in range(1,16)]"
   ]
  },
  {
   "cell_type": "code",
   "execution_count": 31,
   "id": "47c1ae2a",
   "metadata": {},
   "outputs": [],
   "source": [
    "snp_data = []\n",
    "for col in snp_col:\n",
    "    snp_data += list(train_x[col].values)"
   ]
  },
  {
   "cell_type": "code",
   "execution_count": 32,
   "id": "3a22505b",
   "metadata": {},
   "outputs": [
    {
     "data": {
      "text/plain": [
       "LabelEncoder()"
      ]
     },
     "execution_count": 32,
     "metadata": {},
     "output_type": "execute_result"
    }
   ],
   "source": [
    "train_y = class_le.fit_transform(train_y)\n",
    "snp_le.fit(snp_data)"
   ]
  },
  {
   "cell_type": "code",
   "execution_count": 33,
   "id": "b5367025",
   "metadata": {},
   "outputs": [],
   "source": [
    "for col in train_x.columns:\n",
    "    if col in snp_col:\n",
    "        train_x[col] = snp_le.transform(train_x[col])\n",
    "        test_x[col] = snp_le.transform(test_x[col])"
   ]
  },
  {
   "cell_type": "code",
   "execution_count": 34,
   "id": "ce43481d",
   "metadata": {},
   "outputs": [],
   "source": [
    "X_train, X_test, y_train, y_test = train_test_split(train_x, train_y, test_size=0.2, random_state=42)"
   ]
  },
  {
   "cell_type": "code",
   "execution_count": null,
   "id": "69baecea",
   "metadata": {},
   "outputs": [],
   "source": [
    "# optuna 적용\n",
    "#import sklearn\n",
    "\n",
    "#X_train, X_test, y_train, y_test = train_test_split(train_x, train_y, test_size=0.33, random_state=42)\n",
    "#X_train, X_validation, y_train, y_validation = train_test_split(X_train, y_train, test_size=0.25, random_state=42)\n",
    "\n",
    "#def objective(trial):\n",
    "#  param = {\n",
    "#      \"objective\":\"multi:softprob\",\n",
    "#      \"eval_metric\":\"error\",\n",
    "#     \"tree_method\":\"exact\",\"gpu_id\":0,\n",
    "#      \"booster\":\"gbtree\",\n",
    "#      \"verbosity\":0,\n",
    "#     \"num_class\":3,\n",
    "#      \"max_depth\":trial.suggest_int(\"max_depth\", 1, 10),\n",
    "#      \"learning_rate\":trial.suggest_uniform(\"learning_rate\",0.0001,0.99),\n",
    "#      \"n_estimators\":trial.suggest_int(\"n_estimators\",1000,10000,step=100),\n",
    "#      \"colsample_bytree\":trial.suggest_float(\"colsample_bytree\",0.5, 1.0),\n",
    "#      \"colsample_bylevel\":trial.suggest_float(\"colsample_level\",0.5, 1.0),\n",
    "#      \"colsample_bynode\":trial.suggest_float(\"colsample_bynode\",0.5, 1.0),\n",
    "#      \"reg_lambda\":trial.suggest_uniform(\"reg_lambda\",1e-2, 1),\n",
    "#      \"reg_alpha\":trial.suggest_uniform(\"reg_alpha\",1e-2, 1),\n",
    "#    \"subsample\":trial.suggest_discrete_uniform(\"subsample\",0.6, 1.0, 0.05),\n",
    "#      \"min_child_weight\":trial.suggest_int(\"min_child_weight\",2,15),\n",
    "#    \"gamma\":trial.suggest_float(\"gamma\",0.0001,1.0,log=True)\n",
    "#}\n",
    "# model = XGBClassifier(**param, random_state=42)\n",
    "# bst = model.fit(X_train, y_train)\n",
    "# preds = bst.predict(X_validation)\n",
    "# pred_lables = np.rint(preds)\n",
    "#  accuracy = sklearn.metrics.accuracy_score(y_validation, pred_lables)\n",
    "#  return accuracy\n",
    "\n",
    "#if __name__==\"__main__\":\n",
    "  \n",
    "#  train_start = time.time()\n",
    "  \n",
    "#  study = optuna.create_study(direction=\"maximize\")\n",
    "#  study.optimize(objective, n_trials=1000, show_progress_bar=True)\n",
    "\n",
    "#  print(\"Number of finshed trials: \", len(study.trials))\n",
    "#  print(\"Best trial:\")\n",
    "\n",
    "#  trial = study.best_trial\n",
    "\n",
    "#  print(\"Accuracy:{}\".format(trial.value))\n",
    "#  print(\" Best hyperparameters:\")\n",
    "#  for key, value in trial.params.items():\n",
    "#    print(\"{}:{}\".format(key, value))\n",
    "\n",
    "\n",
    "#  clf = XGBClassifier(**study.best_params, random_state=42, use_label_encoder=False)\n",
    "#  clf.fit(X_train, y_train)\n",
    "#  preds = clf.predict(X_test)\n",
    "#  accuracy = sklearn.metrics.accuracy_score(y_test, preds)\n",
    "\n",
    "#  print(\"Accuracy: {}\",format(accuracy))\n",
    "\n"
   ]
  },
  {
   "cell_type": "code",
   "execution_count": null,
   "id": "be8ec647",
   "metadata": {},
   "outputs": [],
   "source": [
    "# gridsearch 적용\n",
    "# 하이퍼 파라미터 값 찾기\n",
    "\n",
    "#from sklearn.model_selection import GridSearchCV\n",
    "\n",
    "#param_xgb = {\"max_depth\": [1,2,3,6,8],\n",
    "#              \"min_child_weight\" : [1,2,3,4,5],\n",
    "#              \"n_estimators\": [1000,1100,1200,1300],\n",
    "#              'gamma' : [0.00001,0.00001,0.00001, 0.0001, 0.001],\n",
    "#              'learning_rate': [0.01, 0.02, 0.03,0.04,0.05]\n",
    "#              } \n",
    "\n",
    "#gscv_xgb = GridSearchCV (estimator = XGBClassifier(), param_grid = param_xgb, scoring ='accuracy', cv = 3,\n",
    "#                         refit=True, n_jobs= 1, verbose=2)\n",
    "#gscv_xgb.fit(train_x, train_y) "
   ]
  },
  {
   "cell_type": "code",
   "execution_count": null,
   "id": "410332fe",
   "metadata": {},
   "outputs": [],
   "source": [
    "#print('XGB 파라미터: ', gscv_xgb.best_params_)\n",
    "#print('XGB 예측 정확도: {:.4f}'.format(gscv_xgb.best_score_))"
   ]
  },
  {
   "cell_type": "code",
   "execution_count": null,
   "id": "e7325b32",
   "metadata": {},
   "outputs": [],
   "source": [
    "#from sklearn import decomposition\n",
    "\n",
    " #줄이고 싶은 차원 수 지정\n",
    "#pca = decomposition.PCA(n_components=1) \n",
    "\n",
    "# X에 오리지널 데이터 넣기\n",
    "#train_x['PCA'] = pca.fit_transform(train_x) \n",
    "#train_x\n",
    "\n",
    "#test_x['PCA'] = pca.transform(test_x) \n",
    "#test_x"
   ]
  },
  {
   "cell_type": "code",
   "execution_count": null,
   "id": "ed1259b1",
   "metadata": {},
   "outputs": [],
   "source": [
    "#kmeans_train = train_x\n",
    "#kmeans = KMeans(n_clusters=3, random_state=42).fit(kmeans_train)\n",
    "#train_x['cluster'] = kmeans.predict(kmeans_train)\n",
    "#test_x['cluster'] = kmeans.predict(test_x)\n",
    "#train_x"
   ]
  },
  {
   "cell_type": "code",
   "execution_count": null,
   "id": "4324618e",
   "metadata": {},
   "outputs": [],
   "source": [
    "#train_x"
   ]
  },
  {
   "cell_type": "code",
   "execution_count": 35,
   "id": "94d039c3",
   "metadata": {},
   "outputs": [
    {
     "data": {
      "text/plain": [
       "<AxesSubplot:title={'center':'Feature importance'}, xlabel='F score', ylabel='Features'>"
      ]
     },
     "execution_count": 35,
     "metadata": {},
     "output_type": "execute_result"
    },
    {
     "data": {
      "image/png": "[encoded data removed]",
      "text/plain": [
       "<Figure size 640x480 with 1 Axes>"
      ]
     },
     "metadata": {},
     "output_type": "display_data"
    }
   ],
   "source": [
    "xgb_wrapper = XGBClassifier(booster='gbtree',\n",
    "                    gamma=1e-05, \n",
    "                    max_depth=3, \n",
    "                    min_child_weight=1, \n",
    "                    n_estimators=1000, \n",
    "                    random_state=42, \n",
    "                    learning_rate=0.03)  \n",
    "model = xgb_wrapper.fit(X_train, y_train, eval_metric='merror')\n",
    "plot_importance(model)"
   ]
  },
  {
   "cell_type": "code",
   "execution_count": 17,
   "id": "9768535e",
   "metadata": {
    "scrolled": true
   },
   "outputs": [
    {
     "name": "stdout",
     "output_type": "stream",
     "text": [
      "[0 1 2 1 0 1 2 1 0 0 2 1 1 0 1 1 0 1 1 1 1 1 1 0 1 1 1 0 0 1 0 0 1 2 0 1 2\n",
      " 1 1 2 0 1 2 1 1 1 1 2 1 2 0 1 0 1 1 1 2 0 1 2 0 1 2 2 2 0 1 0 0 1 1 1 0 0\n",
      " 2 1 2 1 1 1 2 1 0 1 1 1 1 1 2 0 1 1 2 1 1 2 0 1 0 2 0 1 1 2 0 0 2 1 0 1 2\n",
      " 1 1 1 1 0 0 2 1 2 0 1 1 2 2 1 1 1 0 1 0 0 1 1 1 2 0 0 1 0 0 0 2 1 1 1 0 1\n",
      " 2 0 0 1 0 1 1 0 0 1 2 0 1 2 2 1 0 0 2 1 1 0 1 2 2 1 1]\n"
     ]
    }
   ],
   "source": [
    "preds = xgb_wrapper.predict(test_x) \n",
    "print(preds)"
   ]
  },
  {
   "cell_type": "code",
   "execution_count": null,
   "id": "ad497fb2",
   "metadata": {},
   "outputs": [],
   "source": [
    "train_x, train_y"
   ]
  },
  {
   "cell_type": "code",
   "execution_count": 36,
   "id": "caaf90ee",
   "metadata": {},
   "outputs": [],
   "source": [
    "preds = xgb_wrapper.predict(X_test)"
   ]
  },
  {
   "cell_type": "code",
   "execution_count": 37,
   "id": "e776b719",
   "metadata": {},
   "outputs": [
    {
     "data": {
      "text/plain": [
       "0.9622641509433962"
      ]
     },
     "execution_count": 37,
     "metadata": {},
     "output_type": "execute_result"
    }
   ],
   "source": [
    "accuracy_score(y_test, preds)"
   ]
  },
  {
   "cell_type": "code",
   "execution_count": 38,
   "id": "59025cb4",
   "metadata": {},
   "outputs": [
    {
     "data": {
      "text/plain": [
       "0.9622641509433962"
      ]
     },
     "execution_count": 38,
     "metadata": {},
     "output_type": "execute_result"
    }
   ],
   "source": [
    "f1_score(y_test,preds, average= 'micro')"
   ]
  },
  {
   "cell_type": "code",
   "execution_count": 39,
   "id": "89231799",
   "metadata": {},
   "outputs": [],
   "source": [
    "preds = xgb_wrapper.predict(train_x)"
   ]
  },
  {
   "cell_type": "code",
   "execution_count": 40,
   "id": "09918855",
   "metadata": {},
   "outputs": [
    {
     "data": {
      "text/plain": [
       "0.9923664122137404"
      ]
     },
     "execution_count": 40,
     "metadata": {},
     "output_type": "execute_result"
    }
   ],
   "source": [
    "accuracy_score(train_y, preds)"
   ]
  },
  {
   "cell_type": "code",
   "execution_count": 41,
   "id": "9f7e96d6",
   "metadata": {},
   "outputs": [
    {
     "data": {
      "text/plain": [
       "0.9923664122137404"
      ]
     },
     "execution_count": 41,
     "metadata": {},
     "output_type": "execute_result"
    }
   ],
   "source": [
    "f1_score(train_y,preds, average= 'micro')"
   ]
  },
  {
   "cell_type": "code",
   "execution_count": null,
   "id": "6dd7a67e",
   "metadata": {},
   "outputs": [],
   "source": []
  },
  {
   "cell_type": "code",
   "execution_count": null,
   "id": "ce50febf",
   "metadata": {},
   "outputs": [],
   "source": [
    "submit = pd.read_csv('open/sample_submission.csv')"
   ]
  },
  {
   "cell_type": "code",
   "execution_count": null,
   "id": "c46ff8f4",
   "metadata": {},
   "outputs": [],
   "source": [
    "submit['class'] = class_le.inverse_transform(preds)"
   ]
  },
  {
   "cell_type": "code",
   "execution_count": null,
   "id": "b4c3d281",
   "metadata": {},
   "outputs": [],
   "source": [
    "submit.to_csv('./answer/xgboost40.csv', index=False)"
   ]
  },
  {
   "cell_type": "code",
   "execution_count": null,
   "id": "044a89dd",
   "metadata": {},
   "outputs": [],
   "source": []
  }
 ],
 "metadata": {
  "kernelspec": {
   "display_name": "Python [conda env:tf_cpu] *",
   "language": "python",
   "name": "conda-env-tf_cpu-py"
  },
  "language_info": {
   "codemirror_mode": {
    "name": "ipython",
    "version": 3
   },
   "file_extension": ".py",
   "mimetype": "text/x-python",
   "name": "python",
   "nbconvert_exporter": "python",
   "pygments_lexer": "ipython3",
   "version": "3.7.13"
  }
 },
 "nbformat": 4,
 "nbformat_minor": 5
}
