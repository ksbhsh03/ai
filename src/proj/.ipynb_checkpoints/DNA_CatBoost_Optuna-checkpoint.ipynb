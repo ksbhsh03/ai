{
 "cells": [
  {
   "cell_type": "markdown",
   "id": "5d5f03c9",
   "metadata": {},
   "source": [
    "## 임포트"
   ]
  },
  {
   "cell_type": "code",
   "execution_count": 1,
   "id": "5cc60d0b",
   "metadata": {
    "scrolled": true
   },
   "outputs": [
    {
     "name": "stdout",
     "output_type": "stream",
     "text": [
      "Requirement already satisfied: teddynote in c:\\programdata\\anaconda3\\envs\\tf_cpu\\lib\\site-packages (0.2.1)\n",
      "Requirement already satisfied: xgboost in c:\\programdata\\anaconda3\\envs\\tf_cpu\\lib\\site-packages (from teddynote) (1.6.2)\n",
      "Requirement already satisfied: lightgbm in c:\\programdata\\anaconda3\\envs\\tf_cpu\\lib\\site-packages (from teddynote) (3.2.1)\n",
      "Requirement already satisfied: scikit-learn in c:\\programdata\\anaconda3\\envs\\tf_cpu\\lib\\site-packages (from teddynote) (1.0.2)\n",
      "Requirement already satisfied: tqdm in c:\\programdata\\anaconda3\\envs\\tf_cpu\\lib\\site-packages (from teddynote) (4.64.1)\n",
      "Requirement already satisfied: catboost in c:\\programdata\\anaconda3\\envs\\tf_cpu\\lib\\site-packages (from teddynote) (1.0.6)\n",
      "Requirement already satisfied: optuna in c:\\programdata\\anaconda3\\envs\\tf_cpu\\lib\\site-packages (from teddynote) (3.0.5)\n",
      "Requirement already satisfied: pandas in c:\\programdata\\anaconda3\\envs\\tf_cpu\\lib\\site-packages (from teddynote) (1.3.5)\n",
      "Requirement already satisfied: scipy in c:\\programdata\\anaconda3\\envs\\tf_cpu\\lib\\site-packages (from catboost->teddynote) (1.7.3)\n",
      "Requirement already satisfied: plotly in c:\\programdata\\anaconda3\\envs\\tf_cpu\\lib\\site-packages (from catboost->teddynote) (5.9.0)\n",
      "Requirement already satisfied: graphviz in c:\\programdata\\anaconda3\\envs\\tf_cpu\\lib\\site-packages (from catboost->teddynote) (0.20.1)\n",
      "Requirement already satisfied: numpy>=1.16.0 in c:\\programdata\\anaconda3\\envs\\tf_cpu\\lib\\site-packages (from catboost->teddynote) (1.21.5)\n",
      "Requirement already satisfied: six in c:\\programdata\\anaconda3\\envs\\tf_cpu\\lib\\site-packages (from catboost->teddynote) (1.16.0)\n",
      "Requirement already satisfied: matplotlib in c:\\programdata\\anaconda3\\envs\\tf_cpu\\lib\\site-packages (from catboost->teddynote) (3.5.3)\n",
      "Requirement already satisfied: python-dateutil>=2.7.3 in c:\\programdata\\anaconda3\\envs\\tf_cpu\\lib\\site-packages (from pandas->teddynote) (2.8.2)\n",
      "Requirement already satisfied: pytz>=2017.3 in c:\\programdata\\anaconda3\\envs\\tf_cpu\\lib\\site-packages (from pandas->teddynote) (2022.1)\n",
      "Requirement already satisfied: wheel in c:\\programdata\\anaconda3\\envs\\tf_cpu\\lib\\site-packages (from lightgbm->teddynote) (0.37.1)\n",
      "Requirement already satisfied: joblib>=0.11 in c:\\programdata\\anaconda3\\envs\\tf_cpu\\lib\\site-packages (from scikit-learn->teddynote) (1.1.1)\n",
      "Requirement already satisfied: threadpoolctl>=2.0.0 in c:\\programdata\\anaconda3\\envs\\tf_cpu\\lib\\site-packages (from scikit-learn->teddynote) (2.2.0)\n",
      "Requirement already satisfied: packaging>=20.0 in c:\\programdata\\anaconda3\\envs\\tf_cpu\\lib\\site-packages (from optuna->teddynote) (21.3)\n",
      "Requirement already satisfied: sqlalchemy>=1.3.0 in c:\\programdata\\anaconda3\\envs\\tf_cpu\\lib\\site-packages (from optuna->teddynote) (1.3.24)\n",
      "Requirement already satisfied: importlib-metadata<5.0.0 in c:\\programdata\\anaconda3\\envs\\tf_cpu\\lib\\site-packages (from optuna->teddynote) (4.11.3)\n",
      "Requirement already satisfied: colorlog in c:\\programdata\\anaconda3\\envs\\tf_cpu\\lib\\site-packages (from optuna->teddynote) (6.7.0)\n",
      "Requirement already satisfied: cliff in c:\\programdata\\anaconda3\\envs\\tf_cpu\\lib\\site-packages (from optuna->teddynote) (2.15.0)\n",
      "Requirement already satisfied: PyYAML in c:\\programdata\\anaconda3\\envs\\tf_cpu\\lib\\site-packages (from optuna->teddynote) (6.0)\n",
      "Requirement already satisfied: alembic>=1.5.0 in c:\\programdata\\anaconda3\\envs\\tf_cpu\\lib\\site-packages (from optuna->teddynote) (1.9.0)\n",
      "Requirement already satisfied: cmaes>=0.8.2 in c:\\programdata\\anaconda3\\envs\\tf_cpu\\lib\\site-packages (from optuna->teddynote) (0.9.0)\n",
      "Requirement already satisfied: colorama in c:\\programdata\\anaconda3\\envs\\tf_cpu\\lib\\site-packages (from tqdm->teddynote) (0.4.5)\n",
      "Requirement already satisfied: importlib-resources in c:\\programdata\\anaconda3\\envs\\tf_cpu\\lib\\site-packages (from alembic>=1.5.0->optuna->teddynote) (5.2.0)\n",
      "Requirement already satisfied: Mako in c:\\programdata\\anaconda3\\envs\\tf_cpu\\lib\\site-packages (from alembic>=1.5.0->optuna->teddynote) (1.2.4)\n",
      "Requirement already satisfied: zipp>=0.5 in c:\\programdata\\anaconda3\\envs\\tf_cpu\\lib\\site-packages (from importlib-metadata<5.0.0->optuna->teddynote) (3.8.0)\n",
      "Requirement already satisfied: typing-extensions>=3.6.4 in c:\\programdata\\anaconda3\\envs\\tf_cpu\\lib\\site-packages (from importlib-metadata<5.0.0->optuna->teddynote) (4.3.0)\n",
      "Requirement already satisfied: pyparsing!=3.0.5,>=2.0.2 in c:\\programdata\\anaconda3\\envs\\tf_cpu\\lib\\site-packages (from packaging>=20.0->optuna->teddynote) (3.0.9)\n",
      "Requirement already satisfied: pbr!=2.1.0,>=2.0.0 in c:\\programdata\\anaconda3\\envs\\tf_cpu\\lib\\site-packages (from cliff->optuna->teddynote) (5.11.0)\n",
      "Requirement already satisfied: PrettyTable<0.8,>=0.7.2 in c:\\programdata\\anaconda3\\envs\\tf_cpu\\lib\\site-packages (from cliff->optuna->teddynote) (0.7.2)\n",
      "Requirement already satisfied: cmd2!=0.8.3 in c:\\programdata\\anaconda3\\envs\\tf_cpu\\lib\\site-packages (from cliff->optuna->teddynote) (2.4.2)\n",
      "Requirement already satisfied: stevedore>=1.20.0 in c:\\programdata\\anaconda3\\envs\\tf_cpu\\lib\\site-packages (from cliff->optuna->teddynote) (3.5.0)\n",
      "Requirement already satisfied: pillow>=6.2.0 in c:\\programdata\\anaconda3\\envs\\tf_cpu\\lib\\site-packages (from matplotlib->catboost->teddynote) (9.2.0)\n",
      "Requirement already satisfied: cycler>=0.10 in c:\\programdata\\anaconda3\\envs\\tf_cpu\\lib\\site-packages (from matplotlib->catboost->teddynote) (0.11.0)\n",
      "Requirement already satisfied: fonttools>=4.22.0 in c:\\programdata\\anaconda3\\envs\\tf_cpu\\lib\\site-packages (from matplotlib->catboost->teddynote) (4.25.0)\n",
      "Requirement already satisfied: kiwisolver>=1.0.1 in c:\\programdata\\anaconda3\\envs\\tf_cpu\\lib\\site-packages (from matplotlib->catboost->teddynote) (1.4.2)\n",
      "Requirement already satisfied: tenacity>=6.2.0 in c:\\programdata\\anaconda3\\envs\\tf_cpu\\lib\\site-packages (from plotly->catboost->teddynote) (8.0.1)\n",
      "Requirement already satisfied: pyreadline3 in c:\\programdata\\anaconda3\\envs\\tf_cpu\\lib\\site-packages (from cmd2!=0.8.3->cliff->optuna->teddynote) (3.4.1)\n",
      "Requirement already satisfied: attrs>=16.3.0 in c:\\programdata\\anaconda3\\envs\\tf_cpu\\lib\\site-packages (from cmd2!=0.8.3->cliff->optuna->teddynote) (21.4.0)\n",
      "Requirement already satisfied: pyperclip>=1.6 in c:\\programdata\\anaconda3\\envs\\tf_cpu\\lib\\site-packages (from cmd2!=0.8.3->cliff->optuna->teddynote) (1.8.2)\n",
      "Requirement already satisfied: wcwidth>=0.1.7 in c:\\programdata\\anaconda3\\envs\\tf_cpu\\lib\\site-packages (from cmd2!=0.8.3->cliff->optuna->teddynote) (0.2.5)\n",
      "Requirement already satisfied: MarkupSafe>=0.9.2 in c:\\programdata\\anaconda3\\envs\\tf_cpu\\lib\\site-packages (from Mako->alembic>=1.5.0->optuna->teddynote) (2.1.1)\n"
     ]
    },
    {
     "name": "stderr",
     "output_type": "stream",
     "text": [
      "C:\\ProgramData\\Anaconda3\\envs\\tf_cpu\\lib\\site-packages\\tqdm\\auto.py:22: TqdmWarning: IProgress not found. Please update jupyter and ipywidgets. See https://ipywidgets.readthedocs.io/en/stable/user_install.html\n",
      "  from .autonotebook import tqdm as notebook_tqdm\n"
     ]
    }
   ],
   "source": [
    "!pip install -U teddynote\n",
    "\n",
    "from teddynote import models\n",
    "# Data Wrangling\n",
    "import pandas as pd\n",
    "import numpy as np\n",
    "\n",
    "#Utility\n",
    "import random\n",
    "import os\n",
    "\n",
    "# Preprocessing & Feature Engineering\n",
    "from sklearn.pipeline import Pipeline\n",
    "from sklearn.preprocessing import FunctionTransformer\n",
    "from sklearn.compose import ColumnTransformer\n",
    "from sklearn.preprocessing import MaxAbsScaler\n",
    "from sklearn.preprocessing import MinMaxScaler\n",
    "from sklearn.feature_selection import SelectPercentile\n",
    "from sklearn import preprocessing\n",
    "from sklearn.ensemble import RandomForestClassifier\n",
    "\n",
    "# Evaluation\n",
    "from sklearn.model_selection import train_test_split, KFold, StratifiedKFold\n",
    "from sklearn.model_selection import cross_val_score\n",
    "\n",
    "# Optuna\n",
    "import optuna\n",
    "from optuna.samplers import TPESampler\n",
    "from optuna import Trial\n",
    "\n",
    "# Modeling\n",
    "from xgboost import XGBRegressor\n",
    "from catboost import CatBoostRegressor\n",
    "from lightgbm import LGBMRegressor\n",
    "from catboost import CatBoostClassifier, Pool, cv\n",
    "\n",
    "# Visualization\n",
    "from matplotlib import pyplot as plt\n",
    "import seaborn as sns\n",
    "\n",
    "%matplotlib inline\n",
    "import warnings\n",
    "warnings.filterwarnings(\"ignore\")\n",
    "\n",
    "pd.set_option('mode.chained_assignment',  None)"
   ]
  },
  {
   "cell_type": "code",
   "execution_count": 2,
   "id": "4940f0df",
   "metadata": {},
   "outputs": [],
   "source": [
    "class CFG:\n",
    "    SEED = 42"
   ]
  },
  {
   "cell_type": "code",
   "execution_count": 3,
   "id": "3ae17b9e",
   "metadata": {},
   "outputs": [],
   "source": [
    "def seed_everything(seed):\n",
    "    random.seed(seed)\n",
    "    os.environ['PYTHONHASHSEED'] = str(seed)\n",
    "    np.random.seed(seed)\n",
    "seed_everything(CFG.SEED) # Seed 고정"
   ]
  },
  {
   "cell_type": "markdown",
   "id": "33016820",
   "metadata": {},
   "source": [
    "## 데이터 불러오기"
   ]
  },
  {
   "cell_type": "code",
   "execution_count": 4,
   "id": "814655ab",
   "metadata": {},
   "outputs": [],
   "source": [
    "train = pd.read_csv('open/train.csv')\n",
    "test = pd.read_csv('open/test.csv')"
   ]
  },
  {
   "cell_type": "code",
   "execution_count": 5,
   "id": "f68fc462",
   "metadata": {},
   "outputs": [],
   "source": [
    "def get_x_y(df):\n",
    "    if 'class' in df.columns:\n",
    "        df_x = df.drop(columns=['id', 'class','father','mother','gender'])\n",
    "        df_y = df['class']\n",
    "        return df_x, df_y\n",
    "    else:\n",
    "        df_x = df.drop(columns=['id'])\n",
    "        return df_x"
   ]
  },
  {
   "cell_type": "code",
   "execution_count": 6,
   "id": "7a73a932",
   "metadata": {},
   "outputs": [],
   "source": [
    "train_x, train_y = get_x_y(train)\n",
    "test_x = get_x_y(test)"
   ]
  },
  {
   "cell_type": "markdown",
   "id": "0645d69b",
   "metadata": {},
   "source": [
    "## Data Pre-processing\n",
    "### Label-Encoding"
   ]
  },
  {
   "cell_type": "code",
   "execution_count": 7,
   "id": "dce35ecf",
   "metadata": {},
   "outputs": [],
   "source": [
    "class_le = preprocessing.LabelEncoder()\n",
    "snp_le = preprocessing.LabelEncoder()\n",
    "snp_col = [f'SNP_{str(x).zfill(2)}' for x in range(1,16)]"
   ]
  },
  {
   "cell_type": "code",
   "execution_count": 8,
   "id": "bf3f830d",
   "metadata": {},
   "outputs": [],
   "source": [
    "snp_data = []\n",
    "for col in snp_col:\n",
    "    snp_data += list(train_x[col].values)"
   ]
  },
  {
   "cell_type": "code",
   "execution_count": 9,
   "id": "8366d80e",
   "metadata": {},
   "outputs": [
    {
     "data": {
      "text/plain": [
       "LabelEncoder()"
      ]
     },
     "execution_count": 9,
     "metadata": {},
     "output_type": "execute_result"
    }
   ],
   "source": [
    "train_y = class_le.fit_transform(train_y)\n",
    "snp_le.fit(snp_data)"
   ]
  },
  {
   "cell_type": "code",
   "execution_count": 10,
   "id": "e8a39e90",
   "metadata": {},
   "outputs": [],
   "source": [
    "for col in train_x.columns:\n",
    "    if col in snp_col:\n",
    "        train_x[col] = snp_le.transform(train_x[col])\n",
    "        test_x[col] = snp_le.transform(test_x[col])"
   ]
  },
  {
   "cell_type": "code",
   "execution_count": null,
   "id": "eaa803e6",
   "metadata": {},
   "outputs": [],
   "source": []
  },
  {
   "cell_type": "markdown",
   "id": "3b4138aa",
   "metadata": {},
   "source": [
    "## Model Fit"
   ]
  },
  {
   "cell_type": "code",
   "execution_count": null,
   "id": "7b4a9e51",
   "metadata": {},
   "outputs": [
    {
     "name": "stderr",
     "output_type": "stream",
     "text": [
      "\u001b[32m[I 2022-12-21 17:10:06,010]\u001b[0m A new study created in memory with name: no-name-4b2588ae-5f99-4ef2-b1c3-d996eaf2151c\u001b[0m\n"
     ]
    },
    {
     "name": "stdout",
     "output_type": "stream",
     "text": [
      "metric type: accuracy, score: 1.00000\n",
      "metric type: accuracy, score: 0.96226\n",
      "metric type: accuracy, score: 0.92308\n",
      "metric type: accuracy, score: 0.92308\n"
     ]
    },
    {
     "name": "stderr",
     "output_type": "stream",
     "text": [
      "\u001b[32m[I 2022-12-21 17:10:08,914]\u001b[0m Trial 0 finished with value: 0.9578374455732946 and parameters: {'bootstrap_type': 'MVS', 'boosting_type': 'Ordered', 'od_type': 'IncToDec', 'colsample_bylevel': 0.07524669901342856, 'l2_leaf_reg': 0.1812243145332238, 'learning_rate': 0.03799521233235702, 'iterations': 1438, 'min_child_samples': 8, 'depth': 9}. Best is trial 0 with value: 0.9578374455732946.\u001b[0m\n"
     ]
    },
    {
     "name": "stdout",
     "output_type": "stream",
     "text": [
      "metric type: accuracy, score: 0.98077\n",
      "metric type: accuracy, score: 1.00000\n",
      "metric type: accuracy, score: 0.96226\n",
      "metric type: accuracy, score: 0.94231\n",
      "metric type: accuracy, score: 0.94231\n"
     ]
    },
    {
     "name": "stderr",
     "output_type": "stream",
     "text": [
      "\u001b[32m[I 2022-12-21 17:10:09,645]\u001b[0m Trial 1 finished with value: 0.9693759071117561 and parameters: {'bootstrap_type': 'Bayesian', 'boosting_type': 'Plain', 'od_type': 'IncToDec', 'colsample_bylevel': 0.057192755843482164, 'l2_leaf_reg': 0.015485619911903416, 'learning_rate': 0.1271121001554646, 'iterations': 780, 'min_child_samples': 32, 'depth': 3, 'bagging_temperature': 31.59278073933575}. Best is trial 1 with value: 0.9693759071117561.\u001b[0m\n"
     ]
    },
    {
     "name": "stdout",
     "output_type": "stream",
     "text": [
      "metric type: accuracy, score: 1.00000\n",
      "metric type: accuracy, score: 0.98113\n",
      "metric type: accuracy, score: 0.96226\n"
     ]
    }
   ],
   "source": [
    "model = models.CatBoostClassifierOptuna()\n",
    "params, preds = model.optimize(train_x, train_y, test_data=test_x, eval_metric='accuracy', cv=5, seed=CFG.SEED, n_rounds=100, n_trials=100)"
   ]
  },
  {
   "cell_type": "code",
   "execution_count": null,
   "id": "011e24f1",
   "metadata": {},
   "outputs": [],
   "source": [
    "params"
   ]
  },
  {
   "cell_type": "code",
   "execution_count": null,
   "id": "2d14f066",
   "metadata": {},
   "outputs": [],
   "source": [
    "preds"
   ]
  },
  {
   "cell_type": "code",
   "execution_count": null,
   "id": "c59d7b33",
   "metadata": {},
   "outputs": [],
   "source": [
    "clf = CatBoostClassifier(bootstrap_type = 'MVS', boosting_type = 'Ordered',od_type = 'Iter',colsample_bylevel = 0.028929702498494095,\n",
    " l2_leaf_reg = 0.004736168800482262,\n",
    " learning_rate = 0.01598306419837247,\n",
    " iterations = 1315,\n",
    " min_child_samples= 22,\n",
    " depth = 10)\n",
    "\n",
    "clf.fit(train_x, train_y)\n"
   ]
  },
  {
   "cell_type": "code",
   "execution_count": null,
   "id": "e5dadbcf",
   "metadata": {},
   "outputs": [],
   "source": [
    "preds = clf.predict(test_x)\n",
    "print(preds)"
   ]
  },
  {
   "cell_type": "code",
   "execution_count": null,
   "id": "cfb4f69d",
   "metadata": {},
   "outputs": [],
   "source": [
    "submit = pd.read_csv('./sample_submission.csv')\n",
    "submit['class'] = class_le.inverse_transform(preds)\n",
    "submit.to_csv('./answer/submit_catboost_optuna.csv', index=False)"
   ]
  },
  {
   "cell_type": "code",
   "execution_count": null,
   "id": "97ed649a",
   "metadata": {},
   "outputs": [],
   "source": []
  }
 ],
 "metadata": {
  "kernelspec": {
   "display_name": "Python 3 (ipykernel)",
   "language": "python",
   "name": "python3"
  },
  "language_info": {
   "codemirror_mode": {
    "name": "ipython",
    "version": 3
   },
   "file_extension": ".py",
   "mimetype": "text/x-python",
   "name": "python",
   "nbconvert_exporter": "python",
   "pygments_lexer": "ipython3",
   "version": "3.7.13"
  }
 },
 "nbformat": 4,
 "nbformat_minor": 5
}
