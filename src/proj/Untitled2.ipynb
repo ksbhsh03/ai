{
 "cells": [
  {
   "cell_type": "code",
   "execution_count": 1,
   "id": "7230e121",
   "metadata": {},
   "outputs": [],
   "source": [
    "import pandas as pd\n",
    "import random\n",
    "import os\n",
    "import numpy as np\n",
    "\n",
    "from sklearn import preprocessing\n",
    "from sklearn.ensemble import RandomForestClassifier\n"
   ]
  },
  {
   "cell_type": "code",
   "execution_count": 2,
   "id": "eb94ecfc",
   "metadata": {},
   "outputs": [],
   "source": [
    "class CFG:\n",
    "    SEED = 42"
   ]
  },
  {
   "cell_type": "code",
   "execution_count": 3,
   "id": "0576b1b2",
   "metadata": {},
   "outputs": [],
   "source": [
    "def seed_everything(seed):\n",
    "    random.seed(seed)\n",
    "    os.environ['PYTHONHASHSEED'] = str(seed)\n",
    "    np.random.seed(seed)\n",
    "seed_everything(CFG.SEED) # Seed 고정\n",
    "\n"
   ]
  },
  {
   "cell_type": "code",
   "execution_count": 4,
   "id": "95b4f8db",
   "metadata": {},
   "outputs": [],
   "source": [
    "train = pd.read_csv('open/train.csv')\n",
    "test = pd.read_csv('open/test.csv')"
   ]
  },
  {
   "cell_type": "code",
   "execution_count": 5,
   "id": "862703c5",
   "metadata": {},
   "outputs": [],
   "source": [
    "test.drop(['father', 'mother', 'gender'], axis = 1, inplace=True)"
   ]
  },
  {
   "cell_type": "code",
   "execution_count": 6,
   "id": "ea2a261e",
   "metadata": {},
   "outputs": [],
   "source": [
    "train.drop('id', axis = 1, inplace=True)"
   ]
  },
  {
   "cell_type": "code",
   "execution_count": 7,
   "id": "020f0afc",
   "metadata": {},
   "outputs": [],
   "source": [
    "test.drop('id', axis = 1, inplace=True)"
   ]
  },
  {
   "cell_type": "code",
   "execution_count": 8,
   "id": "90010d43",
   "metadata": {},
   "outputs": [],
   "source": [
    "class_le = preprocessing.LabelEncoder()\n",
    "snp_le = preprocessing.LabelEncoder()\n",
    "snp_col = [f'SNP_{str(x).zfill(2)}' for x in range(1,16)]"
   ]
  },
  {
   "cell_type": "code",
   "execution_count": 9,
   "id": "ded0c5c5",
   "metadata": {},
   "outputs": [
    {
     "ename": "NameError",
     "evalue": "name 'train_x' is not defined",
     "output_type": "error",
     "traceback": [
      "\u001b[1;31m---------------------------------------------------------------------------\u001b[0m",
      "\u001b[1;31mNameError\u001b[0m                                 Traceback (most recent call last)",
      "\u001b[1;32m~\\AppData\\Local\\Temp\\ipykernel_5036\\3479740230.py\u001b[0m in \u001b[0;36m<module>\u001b[1;34m\u001b[0m\n\u001b[0;32m      1\u001b[0m \u001b[0msnp_data\u001b[0m \u001b[1;33m=\u001b[0m \u001b[1;33m[\u001b[0m\u001b[1;33m]\u001b[0m\u001b[1;33m\u001b[0m\u001b[1;33m\u001b[0m\u001b[0m\n\u001b[0;32m      2\u001b[0m \u001b[1;32mfor\u001b[0m \u001b[0mcol\u001b[0m \u001b[1;32min\u001b[0m \u001b[0msnp_col\u001b[0m\u001b[1;33m:\u001b[0m\u001b[1;33m\u001b[0m\u001b[1;33m\u001b[0m\u001b[0m\n\u001b[1;32m----> 3\u001b[1;33m     \u001b[0msnp_data\u001b[0m \u001b[1;33m+=\u001b[0m \u001b[0mlist\u001b[0m\u001b[1;33m(\u001b[0m\u001b[0mtrain_x\u001b[0m\u001b[1;33m[\u001b[0m\u001b[0mcol\u001b[0m\u001b[1;33m]\u001b[0m\u001b[1;33m.\u001b[0m\u001b[0mvalues\u001b[0m\u001b[1;33m)\u001b[0m\u001b[1;33m\u001b[0m\u001b[1;33m\u001b[0m\u001b[0m\n\u001b[0m",
      "\u001b[1;31mNameError\u001b[0m: name 'train_x' is not defined"
     ]
    }
   ],
   "source": [
    "snp_data = []\n",
    "for col in snp_col:\n",
    "    snp_data += list(train_x[col].values)"
   ]
  },
  {
   "cell_type": "code",
   "execution_count": null,
   "id": "12f5004a",
   "metadata": {},
   "outputs": [],
   "source": [
    "train_y = class_le.fit_transform(train_y)\n",
    "snp_le.fit(snp_data)"
   ]
  },
  {
   "cell_type": "code",
   "execution_count": null,
   "id": "1a7ca786",
   "metadata": {},
   "outputs": [],
   "source": [
    "for col in train_x.columns:\n",
    "    if col in snp_col:\n",
    "        train_x[col] = snp_le.transform(train_x[col])\n",
    "        test_x[col] = snp_le.transform(test_x[col])"
   ]
  },
  {
   "cell_type": "code",
   "execution_count": null,
   "id": "c840c5e3",
   "metadata": {},
   "outputs": [],
   "source": [
    "clf = CatBoostClassifier()\n",
    "clf.fit(train_x, train_y )"
   ]
  },
  {
   "cell_type": "code",
   "execution_count": null,
   "id": "977ab77a",
   "metadata": {},
   "outputs": [],
   "source": [
    "preds = clf.predict(test_x)\n",
    "print('Done.')"
   ]
  },
  {
   "cell_type": "code",
   "execution_count": null,
   "id": "6b2d416f",
   "metadata": {},
   "outputs": [],
   "source": [
    "submit = pd.read_csv('open/sample_submission.csv')"
   ]
  },
  {
   "cell_type": "code",
   "execution_count": null,
   "id": "aa8b34e6",
   "metadata": {},
   "outputs": [],
   "source": [
    "submit['class'] = class_le.inverse_transform(preds)"
   ]
  },
  {
   "cell_type": "code",
   "execution_count": null,
   "id": "0ffbec00",
   "metadata": {},
   "outputs": [],
   "source": [
    "submit.to_csv('./answer/submit.csv', index=False)"
   ]
  }
 ],
 "metadata": {
  "kernelspec": {
   "display_name": "Python [conda env:tf_cpu] *",
   "language": "python",
   "name": "conda-env-tf_cpu-py"
  },
  "language_info": {
   "codemirror_mode": {
    "name": "ipython",
    "version": 3
   },
   "file_extension": ".py",
   "mimetype": "text/x-python",
   "name": "python",
   "nbconvert_exporter": "python",
   "pygments_lexer": "ipython3",
   "version": "3.7.13"
  }
 },
 "nbformat": 4,
 "nbformat_minor": 5
}
