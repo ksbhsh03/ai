{
 "cells": [
  {
   "cell_type": "code",
   "execution_count": 1,
   "id": "99d6bab3",
   "metadata": {},
   "outputs": [],
   "source": [
    "import pandas as pd\n",
    "import random\n",
    "import os\n",
    "import numpy as np\n",
    "import warnings\n",
    "warnings.filterwarnings('ignore')\n",
    "from sklearn.model_selection import train_test_split\n",
    "from xgboost import plot_importance\n",
    "from sklearn.model_selection import GridSearchCV\n",
    "from sklearn import preprocessing\n",
    "from sklearn.ensemble import RandomForestClassifier\n",
    "from xgboost import XGBClassifier\n",
    "from sklearn.model_selection import cross_val_score\n",
    "from sklearn.metrics import accuracy_score # 정확도\n",
    "from sklearn.metrics import precision_score, recall_score # 정밀도, 재현률\n",
    "from sklearn.metrics import f1_score"
   ]
  },
  {
   "cell_type": "code",
   "execution_count": 2,
   "id": "da924bb3",
   "metadata": {},
   "outputs": [],
   "source": [
    "# 시드고정\n",
    "class CFG:\n",
    "    SEED = 42"
   ]
  },
  {
   "cell_type": "code",
   "execution_count": 3,
   "id": "56e8fdd5",
   "metadata": {},
   "outputs": [],
   "source": [
    "def seed_everything(seed):\n",
    "    random.seed(seed)\n",
    "    os.environ['PYTHONHASHSEED'] = str(seed)\n",
    "    np.random.seed(seed)\n",
    "seed_everything(CFG.SEED) # Seed 고정"
   ]
  },
  {
   "cell_type": "code",
   "execution_count": 4,
   "id": "e5b12e78",
   "metadata": {},
   "outputs": [],
   "source": [
    "# 파일 읽어오기\n",
    "train = pd.read_csv('open/train.csv')\n",
    "test = pd.read_csv('open/test.csv')\n",
    "info = pd.read_csv('open/snp_info.csv')"
   ]
  },
  {
   "cell_type": "code",
   "execution_count": 5,
   "id": "fd2843d6",
   "metadata": {},
   "outputs": [],
   "source": [
    "def get_x_y(df):\n",
    "    if 'class' in df.columns:\n",
    "        df_x = df.drop(columns=['id', 'class'])\n",
    "        df_y = df['class']\n",
    "        return df_x, df_y\n",
    "    else:\n",
    "        df_x = df.drop(columns=['id'])\n",
    "        return df_x"
   ]
  },
  {
   "cell_type": "code",
   "execution_count": 6,
   "id": "978aee7a",
   "metadata": {},
   "outputs": [],
   "source": [
    "train_x, train_y = get_x_y(train)\n",
    "test_x = get_x_y(test)"
   ]
  },
  {
   "cell_type": "code",
   "execution_count": 7,
   "id": "652b6f65",
   "metadata": {},
   "outputs": [],
   "source": [
    "class_le = preprocessing.LabelEncoder()\n",
    "snp_le = preprocessing.LabelEncoder()\n",
    "snp_col = [f'SNP_{str(x).zfill(2)}' for x in range(1,16)]"
   ]
  },
  {
   "cell_type": "code",
   "execution_count": 8,
   "id": "9e115a3a",
   "metadata": {},
   "outputs": [],
   "source": [
    "snp_data = []\n",
    "for col in snp_col:\n",
    "    snp_data += list(train_x[col].values)"
   ]
  },
  {
   "cell_type": "code",
   "execution_count": 9,
   "id": "6d55ed18",
   "metadata": {},
   "outputs": [
    {
     "data": {
      "text/plain": [
       "LabelEncoder()"
      ]
     },
     "execution_count": 9,
     "metadata": {},
     "output_type": "execute_result"
    }
   ],
   "source": [
    "train_y = class_le.fit_transform(train_y)\n",
    "snp_le.fit(snp_data)"
   ]
  },
  {
   "cell_type": "code",
   "execution_count": 10,
   "id": "ba8edd2d",
   "metadata": {},
   "outputs": [],
   "source": [
    "for col in train_x.columns:\n",
    "    if col in snp_col:\n",
    "        train_x[col] = snp_le.transform(train_x[col])\n",
    "        test_x[col] = snp_le.transform(test_x[col])"
   ]
  },
  {
   "cell_type": "code",
   "execution_count": 11,
   "id": "e9da6116",
   "metadata": {},
   "outputs": [],
   "source": [
    "#def cross_validation(classifier, train_x, train_y):\n",
    "    \n",
    "#    for i in range(10):\n",
    "#        scores = cross_val_score(classifier, train_x, train_y, cv=10, scoring='accuracy')  # 훈려데이터가 적을때 많이 사용된다. \n",
    "        \n",
    "#    return cv_scores"
   ]
  },
  {
   "cell_type": "code",
   "execution_count": 12,
   "id": "5eddfc65",
   "metadata": {},
   "outputs": [],
   "source": [
    "#from sklearn.model_selection import GridSearchCV\n",
    "\n",
    "#param_xgb = {\"max_depth\": [1,2,3,6,8],\n",
    "#              \"min_child_weight\" : [1,2,3,4,5],\n",
    "#              'gamma' : [0.00001,0.00001,0.00001, 0.0001, 0.001],\n",
    "#              'learning_rate': [0.01, 0.02, 0.03,0.04,0.05]\n",
    "#              } \n",
    "\n",
    "#gscv_xgb = GridSearchCV (estimator = XGBClassifier(), param_grid = param_xgb, scoring ='accuracy', cv = 3, refit=True, n_jobs= 1, verbose=2)\n",
    "#gscv_xgb.fit(train_x, train_y) "
   ]
  },
  {
   "cell_type": "code",
   "execution_count": 13,
   "id": "a77824ac",
   "metadata": {},
   "outputs": [],
   "source": [
    "#print('XGB 파라미터: ', gscv_xgb.best_params_)\n",
    "#print('XGB 예측 정확도: {:.4f}'.format(gscv_xgb.best_score_))"
   ]
  },
  {
   "cell_type": "code",
   "execution_count": 14,
   "id": "3f028000",
   "metadata": {},
   "outputs": [],
   "source": [
    "# 파라미터 값 찾기\n",
    "#xgb_wrapper = XGBClassifier(n_estimators=1200, learning_rate=0.03, max_depth=3)  \n",
    "#xgb_wrapper.fit(X_train, train_y)"
   ]
  },
  {
   "cell_type": "code",
   "execution_count": 15,
   "id": "7a3b378d",
   "metadata": {},
   "outputs": [],
   "source": [
    "#교차 검증\n",
    "#rt_cv_scores = cross_validation(XGBClassifier(), train_x, train_y)\n"
   ]
  },
  {
   "cell_type": "code",
   "execution_count": 25,
   "id": "45e210b0",
   "metadata": {
    "scrolled": true
   },
   "outputs": [
    {
     "data": {
      "text/plain": [
       "<AxesSubplot:title={'center':'Feature importance'}, xlabel='F score', ylabel='Features'>"
      ]
     },
     "execution_count": 25,
     "metadata": {},
     "output_type": "execute_result"
    },
    {
     "data": {
      "image/png": "[encoded data removed]",
      "text/plain": [
       "<Figure size 640x480 with 1 Axes>"
      ]
     },
     "metadata": {},
     "output_type": "display_data"
    }
   ],
   "source": [
    "xgb_wrapper = XGBClassifier(booster='gbtree',\n",
    "                    max_depth=10,\n",
    "learning_rate=0.8470737119565664,\n",
    "n_estimators=2600,\n",
    "colsample_bytree=0.8023405821901214,\n",
    "colsample_bynode=0.8180689377813507,\n",
    "reg_lambda=0.40725824722922965,\n",
    "reg_alpha=0.12391353980992334,\n",
    "subsample=0.75,\n",
    "min_child_weight=2,\n",
    "gamma=0.00041432587473121086)  \n",
    "model = xgb_wrapper.fit(train_x, train_y, eval_metric='error')\n",
    "\n",
    "plot_importance(model)\n"
   ]
  },
  {
   "cell_type": "code",
   "execution_count": 26,
   "id": "b854a794",
   "metadata": {},
   "outputs": [
    {
     "name": "stdout",
     "output_type": "stream",
     "text": [
      "[0 1 2 1 0 1 2 1 0 0 2 1 2 0 1 1 0 1 1 1 1 1 1 0 1 1 1 0 0 1 0 0 1 2 0 1 2\n",
      " 1 1 2 0 1 2 1 1 1 1 2 1 2 0 1 0 1 1 1 2 0 1 2 0 1 2 2 2 0 1 0 0 1 1 1 0 0\n",
      " 2 1 2 1 1 1 2 1 0 1 1 1 1 1 2 0 1 1 2 1 1 2 0 1 0 2 0 1 1 2 0 0 2 1 0 1 2\n",
      " 1 1 1 1 0 0 2 1 2 0 1 1 2 2 1 1 1 0 1 0 0 1 1 1 2 0 0 1 0 0 0 2 1 1 1 0 1\n",
      " 2 0 0 1 0 1 1 0 0 1 2 0 1 2 2 1 0 0 2 1 1 0 1 2 2 1 1]\n"
     ]
    }
   ],
   "source": [
    "preds = xgb_wrapper.predict(test_x)\n",
    "print(preds)"
   ]
  },
  {
   "cell_type": "code",
   "execution_count": 18,
   "id": "c8ddda24",
   "metadata": {},
   "outputs": [],
   "source": [
    "#from sklearn.metrics import accuracy_score as acc\n",
    "#acc(y_train, preds)"
   ]
  },
  {
   "cell_type": "code",
   "execution_count": 19,
   "id": "e12d9193",
   "metadata": {},
   "outputs": [],
   "source": [
    "submit = pd.read_csv('open/sample_submission.csv')"
   ]
  },
  {
   "cell_type": "code",
   "execution_count": 20,
   "id": "b460c0dd",
   "metadata": {},
   "outputs": [],
   "source": [
    "submit['class'] = class_le.inverse_transform(preds)"
   ]
  },
  {
   "cell_type": "code",
   "execution_count": 21,
   "id": "5daab204",
   "metadata": {},
   "outputs": [],
   "source": [
    "submit.to_csv('./answer/xgb_submit10.csv', index=False)"
   ]
  },
  {
   "cell_type": "code",
   "execution_count": null,
   "id": "40c19846",
   "metadata": {},
   "outputs": [],
   "source": []
  }
 ],
 "metadata": {
  "kernelspec": {
   "display_name": "Python [conda env:tf_cpu] *",
   "language": "python",
   "name": "conda-env-tf_cpu-py"
  },
  "language_info": {
   "codemirror_mode": {
    "name": "ipython",
    "version": 3
   },
   "file_extension": ".py",
   "mimetype": "text/x-python",
   "name": "python",
   "nbconvert_exporter": "python",
   "pygments_lexer": "ipython3",
   "version": "3.7.13"
  }
 },
 "nbformat": 4,
 "nbformat_minor": 5
}
