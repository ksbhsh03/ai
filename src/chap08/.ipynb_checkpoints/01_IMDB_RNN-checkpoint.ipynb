{
 "cells": [
  {
   "cell_type": "code",
   "execution_count": 1,
   "id": "82a0ef47",
   "metadata": {},
   "outputs": [],
   "source": [
    "# IMDB 리뷰 데이터 셋\n",
    "from tensorflow.keras.datasets import imdb\n",
    "\n",
    "(train_input, train_target), (test_input, test_target) = imdb.load_data(num_words=500, skip_top=20)"
   ]
  },
  {
   "cell_type": "code",
   "execution_count": 2,
   "id": "19bad14c",
   "metadata": {},
   "outputs": [
    {
     "name": "stdout",
     "output_type": "stream",
     "text": [
      "(25000,) (25000,)\n"
     ]
    }
   ],
   "source": [
    "print(train_input.shape, test_input.shape)"
   ]
  },
  {
   "cell_type": "code",
   "execution_count": 3,
   "id": "e7454751",
   "metadata": {},
   "outputs": [
    {
     "name": "stdout",
     "output_type": "stream",
     "text": [
      "218 189\n"
     ]
    }
   ],
   "source": [
    "print(len(train_input[0]), len(train_input[1]))"
   ]
  },
  {
   "cell_type": "code",
   "execution_count": 4,
   "id": "fd0dac0b",
   "metadata": {},
   "outputs": [
    {
     "name": "stdout",
     "output_type": "stream",
     "text": [
      "[2, 2, 22, 2, 43, 2, 2, 2, 2, 65, 458, 2, 66, 2, 2, 173, 36, 256, 2, 25, 100, 43, 2, 112, 50, 2, 2, 2, 35, 480, 284, 2, 150, 2, 172, 112, 167, 2, 336, 385, 39, 2, 172, 2, 2, 2, 2, 38, 2, 447, 2, 192, 50, 2, 2, 147, 2, 2, 2, 22, 2, 2, 2, 469, 2, 22, 71, 87, 2, 2, 43, 2, 38, 76, 2, 2, 2, 2, 22, 2, 2, 2, 2, 2, 2, 2, 2, 2, 62, 386, 2, 2, 316, 2, 106, 2, 2, 2, 2, 2, 480, 66, 2, 33, 2, 130, 2, 2, 38, 2, 2, 25, 124, 51, 36, 135, 48, 25, 2, 33, 2, 22, 2, 215, 28, 77, 52, 2, 2, 407, 2, 82, 2, 2, 2, 107, 117, 2, 2, 256, 2, 2, 2, 2, 2, 2, 36, 71, 43, 2, 476, 26, 400, 317, 46, 2, 2, 2, 2, 2, 104, 88, 2, 381, 2, 297, 98, 32, 2, 56, 26, 141, 2, 194, 2, 2, 2, 226, 22, 21, 134, 476, 26, 480, 2, 144, 30, 2, 2, 51, 36, 28, 224, 92, 25, 104, 2, 226, 65, 2, 38, 2, 88, 2, 2, 283, 2, 2, 2, 113, 103, 32, 2, 2, 2, 2, 178, 32]\n"
     ]
    }
   ],
   "source": [
    "print(train_input[0])"
   ]
  },
  {
   "cell_type": "code",
   "execution_count": 5,
   "id": "e81c3189",
   "metadata": {},
   "outputs": [
    {
     "name": "stdout",
     "output_type": "stream",
     "text": [
      "[1 0 0 1 0 0 1 0 1 0 1 0 0 0 0 0 1 1 0 1]\n"
     ]
    }
   ],
   "source": [
    "print(train_target[:20])"
   ]
  },
  {
   "cell_type": "code",
   "execution_count": 6,
   "id": "caf239a5",
   "metadata": {},
   "outputs": [
    {
     "name": "stdout",
     "output_type": "stream",
     "text": [
      "[22, 43, 65, 458, 66, 173, 36, 256, 25, 100, 43, 112, 50, 35, 480, 284, 150, 172, 112, 167, 336, 385, 39, 172, 38, 447, 192, 50, 147, 22, 469, 22, 71, 87, 43, 38, 76, 22, 62, 386, 316, 106, 480, 66, 33, 130, 38, 25, 124, 51, 36, 135, 48, 25, 33, 22, 215, 28, 77, 52, 407, 82, 107, 117, 256, 36, 71, 43, 476, 26, 400, 317, 46, 104, 88, 381, 297, 98, 32, 56, 26, 141, 194, 226, 22, 21, 134, 476, 26, 480, 144, 30, 51, 36, 28, 224, 92, 25, 104, 226, 65, 38, 88, 283, 113, 103, 32, 178, 32]\n"
     ]
    }
   ],
   "source": [
    "# 훈련 세트에서는 2(어휘 사전에 없는 단어)\n",
    "for i in range(len(train_input)):\n",
    "    train_input[i] = [w for w in train_input[i] if w > 2]\n",
    "    \n",
    "print(train_input[0])"
   ]
  },
  {
   "cell_type": "code",
   "execution_count": 7,
   "id": "0a08c2fd",
   "metadata": {},
   "outputs": [],
   "source": [
    "from sklearn.model_selection import train_test_split\n",
    "train_input, val_input, train_target, val_target = train_test_split(train_input, train_target, test_size=0.2, random_state=42)"
   ]
  },
  {
   "cell_type": "code",
   "execution_count": 8,
   "id": "1de562a2",
   "metadata": {},
   "outputs": [],
   "source": [
    "import numpy as np\n",
    "lengths = np.array([len(x) for x in train_input])"
   ]
  },
  {
   "cell_type": "code",
   "execution_count": 9,
   "id": "9ac6e2d0",
   "metadata": {},
   "outputs": [
    {
     "name": "stdout",
     "output_type": "stream",
     "text": [
      "95.1862 74.0\n"
     ]
    }
   ],
   "source": [
    "print(np.mean(lengths), np.median(lengths))"
   ]
  },
  {
   "cell_type": "code",
   "execution_count": 10,
   "id": "6d0d7c08",
   "metadata": {},
   "outputs": [
    {
     "data": {
      "image/png": "[encoded data removed]",
      "text/plain": [
       "<Figure size 640x480 with 1 Axes>"
      ]
     },
     "metadata": {},
     "output_type": "display_data"
    }
   ],
   "source": [
    "import matplotlib.pyplot as plt\n",
    "plt.hist(lengths)\n",
    "plt.xlabel('length')\n",
    "plt.ylabel('frequency')\n",
    "plt.show()"
   ]
  },
  {
   "cell_type": "code",
   "execution_count": 11,
   "id": "16b33316",
   "metadata": {
    "scrolled": false
   },
   "outputs": [
    {
     "data": {
      "text/plain": [
       "(20000, 100)"
      ]
     },
     "execution_count": 11,
     "metadata": {},
     "output_type": "execute_result"
    }
   ],
   "source": [
    "from tensorflow.keras.preprocessing.sequence import pad_sequences\n",
    "train_seq = pad_sequences(train_input, maxlen=100) # padding='pre' (post)\n",
    "train_seq.shape"
   ]
  },
  {
   "cell_type": "code",
   "execution_count": 12,
   "id": "2d427bc5",
   "metadata": {},
   "outputs": [
    {
     "data": {
      "text/plain": [
       "array([493, 185, 250,  24,  55,  23, 350,  82,  24,  66,  45,  20,  30,\n",
       "       190,  20,  43,  32,  99, 157,  46,  32, 267,  73,  36,  26, 400,\n",
       "        43,  83, 247,  74,  83, 250,  82,  96, 250,  32, 184, 384,  48,\n",
       "       147,  59,  62,  69,  46,  50,  53,  74,  31, 151,  20, 364, 352,\n",
       "        45,  33, 269, 142,  73, 204,  55,  92,  66, 104,  20,  93,  76,\n",
       "       151,  33,  58, 188, 151, 215,  69, 224, 142,  73, 237, 188, 103,\n",
       "        31, 451,  80,  91,  30,  34,  20, 151,  50,  26, 131,  49,  84,\n",
       "        46,  50,  37,  80,  79,  46,  20, 470, 158])"
      ]
     },
     "execution_count": 12,
     "metadata": {},
     "output_type": "execute_result"
    }
   ],
   "source": [
    "train_seq[0]"
   ]
  },
  {
   "cell_type": "code",
   "execution_count": 13,
   "id": "6085f8c3",
   "metadata": {},
   "outputs": [
    {
     "data": {
      "text/plain": [
       "array([  0,   0,   0,   0,   0,   0,   0,   0,   0,   0,   0,   0,   0,\n",
       "         0,   0,   0,   0,   0,   0,   0,   0,   0,   0,   0,   0,   0,\n",
       "         0,   0,   0,   0,   0,   0,   0,   0,   0,   0,   0,   0,   0,\n",
       "         0,   0,   0,   0,   0,   0,   0,   0,   0,   0,   0,   0,   0,\n",
       "         0,   0,   0,   0,   0,   0,   0,   0,   0,   0,   0, 195,  49,\n",
       "       190, 352, 183,  82,  79,  36,  71, 269,  25,  49,  48,  25,  40,\n",
       "        40,  95, 238,  56, 129,  21,  94, 364, 352, 190,  24, 484,  94,\n",
       "       205, 405,  87,  34,  49, 290,  46,  48,  64])"
      ]
     },
     "execution_count": 13,
     "metadata": {},
     "output_type": "execute_result"
    }
   ],
   "source": [
    "train_seq[5]"
   ]
  },
  {
   "cell_type": "code",
   "execution_count": 14,
   "id": "8b901bb7",
   "metadata": {},
   "outputs": [],
   "source": [
    "val_seq = pad_sequences(val_input, maxlen=100) # 범주형일때는 높은 숫자일수록 높은 비중을 차지한다. \n",
    "                                               # one_hot으로 펼쳐줘야한다."
   ]
  },
  {
   "cell_type": "markdown",
   "id": "2f377407",
   "metadata": {},
   "source": [
    "### 순환 신경망 만들기"
   ]
  },
  {
   "cell_type": "code",
   "execution_count": 15,
   "id": "62c42d7c",
   "metadata": {},
   "outputs": [],
   "source": [
    "from tensorflow import keras\n",
    "\n",
    "model = keras.Sequential()\n",
    "\n",
    "model.add(keras.layers.SimpleRNN(8, input_shape=(100, 500)))\n",
    "model.add(keras.layers.Dense(1, activation='sigmoid'))"
   ]
  },
  {
   "cell_type": "code",
   "execution_count": 16,
   "id": "a39d88fb",
   "metadata": {},
   "outputs": [
    {
     "data": {
      "text/plain": [
       "(20000, 100, 500)"
      ]
     },
     "execution_count": 16,
     "metadata": {},
     "output_type": "execute_result"
    }
   ],
   "source": [
    "train_oh = keras.utils.to_categorical(train_seq)\n",
    "train_oh.shape"
   ]
  },
  {
   "cell_type": "code",
   "execution_count": 17,
   "id": "a52ee168",
   "metadata": {},
   "outputs": [
    {
     "data": {
      "text/plain": [
       "(5000, 100, 500)"
      ]
     },
     "execution_count": 17,
     "metadata": {},
     "output_type": "execute_result"
    }
   ],
   "source": [
    "val_oh = keras.utils.to_categorical(val_seq)\n",
    "val_oh.shape"
   ]
  },
  {
   "cell_type": "code",
   "execution_count": 18,
   "id": "77999be3",
   "metadata": {},
   "outputs": [
    {
     "data": {
      "text/plain": [
       "array([[1., 0., 0., ..., 0., 0., 0.],\n",
       "       [1., 0., 0., ..., 0., 0., 0.],\n",
       "       [1., 0., 0., ..., 0., 0., 0.],\n",
       "       ...,\n",
       "       [0., 0., 0., ..., 0., 0., 0.],\n",
       "       [0., 0., 0., ..., 0., 0., 0.],\n",
       "       [0., 0., 0., ..., 0., 0., 0.]], dtype=float32)"
      ]
     },
     "execution_count": 18,
     "metadata": {},
     "output_type": "execute_result"
    }
   ],
   "source": [
    "val_oh[11]"
   ]
  },
  {
   "cell_type": "code",
   "execution_count": 19,
   "id": "1a68adb6",
   "metadata": {},
   "outputs": [
    {
     "name": "stdout",
     "output_type": "stream",
     "text": [
      "Model: \"sequential\"\n",
      "_________________________________________________________________\n",
      " Layer (type)                Output Shape              Param #   \n",
      "=================================================================\n",
      " simple_rnn (SimpleRNN)      (None, 8)                 4072      \n",
      "                                                                 \n",
      " dense (Dense)               (None, 1)                 9         \n",
      "                                                                 \n",
      "=================================================================\n",
      "Total params: 4,081\n",
      "Trainable params: 4,081\n",
      "Non-trainable params: 0\n",
      "_________________________________________________________________\n"
     ]
    }
   ],
   "source": [
    "model.summary()"
   ]
  },
  {
   "cell_type": "code",
   "execution_count": 21,
   "id": "b963bd80",
   "metadata": {},
   "outputs": [
    {
     "name": "stdout",
     "output_type": "stream",
     "text": [
      "Epoch 1/50\n",
      "313/313 [==============================] - 29s 86ms/step - loss: 0.6965 - accuracy: 0.5142 - val_loss: 0.6857 - val_accuracy: 0.5472\n",
      "Epoch 2/50\n",
      "313/313 [==============================] - 24s 76ms/step - loss: 0.6805 - accuracy: 0.5719 - val_loss: 0.6675 - val_accuracy: 0.6134\n",
      "Epoch 3/50\n",
      "313/313 [==============================] - 24s 77ms/step - loss: 0.6556 - accuracy: 0.6457 - val_loss: 0.6365 - val_accuracy: 0.6858\n",
      "Epoch 4/50\n",
      "313/313 [==============================] - 24s 76ms/step - loss: 0.6267 - accuracy: 0.6964 - val_loss: 0.6135 - val_accuracy: 0.7132\n",
      "Epoch 5/50\n",
      "313/313 [==============================] - 24s 78ms/step - loss: 0.6029 - accuracy: 0.7257 - val_loss: 0.5862 - val_accuracy: 0.7446\n",
      "Epoch 6/50\n",
      "313/313 [==============================] - 25s 79ms/step - loss: 0.5782 - accuracy: 0.7471 - val_loss: 0.5670 - val_accuracy: 0.7560\n",
      "Epoch 7/50\n",
      "313/313 [==============================] - 26s 82ms/step - loss: 0.5540 - accuracy: 0.7656 - val_loss: 0.5420 - val_accuracy: 0.7742\n",
      "Epoch 8/50\n",
      "313/313 [==============================] - 26s 82ms/step - loss: 0.5311 - accuracy: 0.7785 - val_loss: 0.5240 - val_accuracy: 0.7768\n",
      "Epoch 9/50\n",
      "313/313 [==============================] - 26s 85ms/step - loss: 0.5103 - accuracy: 0.7869 - val_loss: 0.5057 - val_accuracy: 0.7826\n",
      "Epoch 10/50\n",
      "313/313 [==============================] - 25s 79ms/step - loss: 0.4918 - accuracy: 0.7958 - val_loss: 0.4895 - val_accuracy: 0.7892\n",
      "Epoch 11/50\n",
      "313/313 [==============================] - 27s 85ms/step - loss: 0.4743 - accuracy: 0.8048 - val_loss: 0.4785 - val_accuracy: 0.7980\n",
      "Epoch 12/50\n",
      "313/313 [==============================] - 24s 76ms/step - loss: 0.4591 - accuracy: 0.8081 - val_loss: 0.4612 - val_accuracy: 0.8076\n",
      "Epoch 13/50\n",
      "313/313 [==============================] - 24s 76ms/step - loss: 0.4461 - accuracy: 0.8148 - val_loss: 0.4497 - val_accuracy: 0.8094\n",
      "Epoch 14/50\n",
      "313/313 [==============================] - 23s 73ms/step - loss: 0.4347 - accuracy: 0.8180 - val_loss: 0.4419 - val_accuracy: 0.8102\n",
      "Epoch 15/50\n",
      "313/313 [==============================] - 24s 78ms/step - loss: 0.4247 - accuracy: 0.8215 - val_loss: 0.4353 - val_accuracy: 0.8106\n",
      "Epoch 16/50\n",
      "313/313 [==============================] - 23s 72ms/step - loss: 0.4160 - accuracy: 0.8255 - val_loss: 0.4280 - val_accuracy: 0.8166\n",
      "Epoch 17/50\n",
      "313/313 [==============================] - 25s 80ms/step - loss: 0.4096 - accuracy: 0.8278 - val_loss: 0.4273 - val_accuracy: 0.8136\n",
      "Epoch 18/50\n",
      "313/313 [==============================] - 25s 81ms/step - loss: 0.4037 - accuracy: 0.8302 - val_loss: 0.4222 - val_accuracy: 0.8146\n",
      "Epoch 19/50\n",
      "313/313 [==============================] - 25s 81ms/step - loss: 0.3985 - accuracy: 0.8317 - val_loss: 0.4175 - val_accuracy: 0.8156\n",
      "Epoch 20/50\n",
      "313/313 [==============================] - 26s 83ms/step - loss: 0.3945 - accuracy: 0.8341 - val_loss: 0.4147 - val_accuracy: 0.8192\n",
      "Epoch 21/50\n",
      "313/313 [==============================] - 33s 106ms/step - loss: 0.3905 - accuracy: 0.8350 - val_loss: 0.4127 - val_accuracy: 0.8200\n",
      "Epoch 22/50\n",
      "313/313 [==============================] - 37s 118ms/step - loss: 0.3875 - accuracy: 0.8354 - val_loss: 0.4127 - val_accuracy: 0.8184\n",
      "Epoch 23/50\n",
      "313/313 [==============================] - 47s 150ms/step - loss: 0.3844 - accuracy: 0.8380 - val_loss: 0.4104 - val_accuracy: 0.8214\n",
      "Epoch 24/50\n",
      "313/313 [==============================] - 30s 96ms/step - loss: 0.3813 - accuracy: 0.8395 - val_loss: 0.4090 - val_accuracy: 0.8206\n",
      "Epoch 25/50\n",
      "313/313 [==============================] - 32s 103ms/step - loss: 0.3798 - accuracy: 0.8409 - val_loss: 0.4068 - val_accuracy: 0.8214\n",
      "Epoch 26/50\n",
      "313/313 [==============================] - 28s 89ms/step - loss: 0.3773 - accuracy: 0.8432 - val_loss: 0.4082 - val_accuracy: 0.8226\n",
      "Epoch 27/50\n",
      "313/313 [==============================] - 25s 80ms/step - loss: 0.3756 - accuracy: 0.8429 - val_loss: 0.4067 - val_accuracy: 0.8218\n",
      "Epoch 28/50\n",
      "313/313 [==============================] - 26s 82ms/step - loss: 0.3737 - accuracy: 0.8435 - val_loss: 0.4056 - val_accuracy: 0.8246\n",
      "Epoch 29/50\n",
      "313/313 [==============================] - 26s 82ms/step - loss: 0.3721 - accuracy: 0.8451 - val_loss: 0.4046 - val_accuracy: 0.8228\n",
      "Epoch 30/50\n",
      "313/313 [==============================] - 27s 86ms/step - loss: 0.3704 - accuracy: 0.8464 - val_loss: 0.4071 - val_accuracy: 0.8228\n",
      "Epoch 31/50\n",
      "313/313 [==============================] - 37s 120ms/step - loss: 0.3685 - accuracy: 0.8476 - val_loss: 0.4044 - val_accuracy: 0.8246\n",
      "Epoch 32/50\n",
      "313/313 [==============================] - 34s 107ms/step - loss: 0.3675 - accuracy: 0.8475 - val_loss: 0.4056 - val_accuracy: 0.8224\n",
      "Epoch 33/50\n",
      "313/313 [==============================] - 32s 102ms/step - loss: 0.3658 - accuracy: 0.8479 - val_loss: 0.4039 - val_accuracy: 0.8262\n",
      "Epoch 34/50\n",
      "313/313 [==============================] - 26s 83ms/step - loss: 0.3644 - accuracy: 0.8487 - val_loss: 0.4057 - val_accuracy: 0.8262\n",
      "Epoch 35/50\n",
      "313/313 [==============================] - 28s 88ms/step - loss: 0.3628 - accuracy: 0.8506 - val_loss: 0.4028 - val_accuracy: 0.8272\n",
      "Epoch 36/50\n",
      "313/313 [==============================] - 26s 83ms/step - loss: 0.3619 - accuracy: 0.8499 - val_loss: 0.4039 - val_accuracy: 0.8268\n",
      "Epoch 37/50\n",
      "313/313 [==============================] - 26s 84ms/step - loss: 0.3602 - accuracy: 0.8508 - val_loss: 0.4043 - val_accuracy: 0.8276\n",
      "Epoch 38/50\n",
      "313/313 [==============================] - 26s 85ms/step - loss: 0.3592 - accuracy: 0.8507 - val_loss: 0.4036 - val_accuracy: 0.8272\n"
     ]
    }
   ],
   "source": [
    "\n",
    "model.compile(optimizer=keras.optimizers.RMSprop(learning_rate=1e-4),\n",
    "             loss='binary_crossentropy', metrics='accuracy')\n",
    "\n",
    "checkpoint_cb = keras.callbacks.ModelCheckpoint('best-simpleRnn-model.h5', save_best_only=True)\n",
    "early_stopping_cb = keras.callbacks.EarlyStopping(patience=3, restore_best_weights=True)\n",
    "\n",
    "\n",
    "history = model.fit(train_oh, train_target, epochs=50, batch_size=64, validation_data=(val_oh, val_target), callbacks=[checkpoint_cb,early_stopping_cb])"
   ]
  },
  {
   "cell_type": "code",
   "execution_count": 22,
   "id": "27498412",
   "metadata": {},
   "outputs": [
    {
     "data": {
      "image/png": "[encoded data removed]",
      "text/plain": [
       "<Figure size 640x480 with 1 Axes>"
      ]
     },
     "metadata": {},
     "output_type": "display_data"
    }
   ],
   "source": [
    "plt.plot(history.history['loss'])\n",
    "plt.plot(history.history['val_loss'])\n",
    "plt.xlabel('epochs')\n",
    "plt.ylabel('loss')\n",
    "plt.legend(['train', 'val'])\n",
    "plt.show()"
   ]
  },
  {
   "cell_type": "markdown",
   "id": "52baccf3",
   "metadata": {},
   "source": [
    "### 단어 임베딩 사용하기"
   ]
  },
  {
   "cell_type": "code",
   "execution_count": 24,
   "id": "1d15bc04",
   "metadata": {},
   "outputs": [
    {
     "name": "stdout",
     "output_type": "stream",
     "text": [
      "Model: \"sequential_2\"\n",
      "_________________________________________________________________\n",
      " Layer (type)                Output Shape              Param #   \n",
      "=================================================================\n",
      " embedding (Embedding)       (None, 100, 16)           8000      \n",
      "                                                                 \n",
      " simple_rnn_1 (SimpleRNN)    (None, 8)                 200       \n",
      "                                                                 \n",
      " dense_1 (Dense)             (None, 1)                 9         \n",
      "                                                                 \n",
      "=================================================================\n",
      "Total params: 8,209\n",
      "Trainable params: 8,209\n",
      "Non-trainable params: 0\n",
      "_________________________________________________________________\n"
     ]
    }
   ],
   "source": [
    "model2 = keras.Sequential()\n",
    "\n",
    "model2.add(keras.layers.Embedding(500, 16, input_length=100)) # 데이터의 갯수를 줄여준다\n",
    "model2.add(keras.layers.SimpleRNN(8)) \n",
    "model2.add(keras.layers.Dense(1, activation='sigmoid'))\n",
    "\n",
    "model2.summary()"
   ]
  },
  {
   "cell_type": "code",
   "execution_count": 25,
   "id": "a748d12e",
   "metadata": {},
   "outputs": [
    {
     "name": "stdout",
     "output_type": "stream",
     "text": [
      "Epoch 1/50\n",
      "313/313 [==============================] - 12s 23ms/step - loss: 0.6784 - accuracy: 0.5670 - val_loss: 0.6444 - val_accuracy: 0.6576\n",
      "Epoch 2/50\n",
      "313/313 [==============================] - 7s 22ms/step - loss: 0.6060 - accuracy: 0.7138 - val_loss: 0.5778 - val_accuracy: 0.7590\n",
      "Epoch 3/50\n",
      "313/313 [==============================] - 7s 22ms/step - loss: 0.5659 - accuracy: 0.7584 - val_loss: 0.5480 - val_accuracy: 0.7864\n",
      "Epoch 4/50\n",
      "313/313 [==============================] - 7s 22ms/step - loss: 0.5372 - accuracy: 0.7826 - val_loss: 0.5311 - val_accuracy: 0.7846\n",
      "Epoch 5/50\n",
      "313/313 [==============================] - 7s 22ms/step - loss: 0.5149 - accuracy: 0.7936 - val_loss: 0.5338 - val_accuracy: 0.7578\n",
      "Epoch 6/50\n",
      "313/313 [==============================] - 8s 26ms/step - loss: 0.4957 - accuracy: 0.8052 - val_loss: 0.4977 - val_accuracy: 0.7932\n",
      "Epoch 7/50\n",
      "313/313 [==============================] - 8s 24ms/step - loss: 0.4771 - accuracy: 0.8112 - val_loss: 0.4842 - val_accuracy: 0.8016\n",
      "Epoch 8/50\n",
      "313/313 [==============================] - 8s 26ms/step - loss: 0.4604 - accuracy: 0.8201 - val_loss: 0.4665 - val_accuracy: 0.8094\n",
      "Epoch 9/50\n",
      "313/313 [==============================] - 8s 26ms/step - loss: 0.4462 - accuracy: 0.8243 - val_loss: 0.4530 - val_accuracy: 0.8166\n",
      "Epoch 10/50\n",
      "313/313 [==============================] - 8s 26ms/step - loss: 0.4350 - accuracy: 0.8267 - val_loss: 0.4421 - val_accuracy: 0.8184\n",
      "Epoch 11/50\n",
      "313/313 [==============================] - 7s 22ms/step - loss: 0.4239 - accuracy: 0.8315 - val_loss: 0.4398 - val_accuracy: 0.8116\n",
      "Epoch 12/50\n",
      "313/313 [==============================] - 8s 24ms/step - loss: 0.4145 - accuracy: 0.8336 - val_loss: 0.4322 - val_accuracy: 0.8134\n",
      "Epoch 13/50\n",
      "313/313 [==============================] - 8s 24ms/step - loss: 0.4041 - accuracy: 0.8383 - val_loss: 0.4223 - val_accuracy: 0.8226\n",
      "Epoch 14/50\n",
      "313/313 [==============================] - 8s 27ms/step - loss: 0.3958 - accuracy: 0.8413 - val_loss: 0.4161 - val_accuracy: 0.8216\n",
      "Epoch 15/50\n",
      "313/313 [==============================] - 8s 25ms/step - loss: 0.3893 - accuracy: 0.8424 - val_loss: 0.4171 - val_accuracy: 0.8200\n",
      "Epoch 16/50\n",
      "313/313 [==============================] - 8s 26ms/step - loss: 0.3838 - accuracy: 0.8439 - val_loss: 0.4106 - val_accuracy: 0.8198\n",
      "Epoch 17/50\n",
      "313/313 [==============================] - 7s 22ms/step - loss: 0.3784 - accuracy: 0.8475 - val_loss: 0.4077 - val_accuracy: 0.8208\n",
      "Epoch 18/50\n",
      "313/313 [==============================] - 8s 24ms/step - loss: 0.3748 - accuracy: 0.8461 - val_loss: 0.4065 - val_accuracy: 0.8190\n",
      "Epoch 19/50\n",
      "313/313 [==============================] - 8s 27ms/step - loss: 0.3717 - accuracy: 0.8483 - val_loss: 0.4245 - val_accuracy: 0.8110\n",
      "Epoch 20/50\n",
      "313/313 [==============================] - 7s 22ms/step - loss: 0.3686 - accuracy: 0.8485 - val_loss: 0.4053 - val_accuracy: 0.8198\n",
      "Epoch 21/50\n",
      "313/313 [==============================] - 7s 22ms/step - loss: 0.3657 - accuracy: 0.8494 - val_loss: 0.4021 - val_accuracy: 0.8224\n",
      "Epoch 22/50\n",
      "313/313 [==============================] - 8s 24ms/step - loss: 0.3634 - accuracy: 0.8507 - val_loss: 0.4040 - val_accuracy: 0.8218\n",
      "Epoch 23/50\n",
      "313/313 [==============================] - 8s 24ms/step - loss: 0.3612 - accuracy: 0.8512 - val_loss: 0.4045 - val_accuracy: 0.8206\n",
      "Epoch 24/50\n",
      "313/313 [==============================] - 7s 22ms/step - loss: 0.3592 - accuracy: 0.8524 - val_loss: 0.4072 - val_accuracy: 0.8204\n"
     ]
    }
   ],
   "source": [
    "\n",
    "model2.compile(optimizer=keras.optimizers.RMSprop(learning_rate=1e-4),\n",
    "             loss='binary_crossentropy', metrics='accuracy')\n",
    "\n",
    "checkpoint_cb = keras.callbacks.ModelCheckpoint('best-embeddingRnn-model.h5', save_best_only=True)\n",
    "early_stopping_cb = keras.callbacks.EarlyStopping(patience=3, restore_best_weights=True)\n",
    "\n",
    "\n",
    "history = model2.fit(train_seq, train_target, epochs=50, batch_size=64, validation_data=(val_seq, val_target), callbacks=[checkpoint_cb,early_stopping_cb])"
   ]
  },
  {
   "cell_type": "code",
   "execution_count": 26,
   "id": "dbcc205d",
   "metadata": {},
   "outputs": [
    {
     "data": {
      "image/png": "[encoded data removed]",
      "text/plain": [
       "<Figure size 640x480 with 1 Axes>"
      ]
     },
     "metadata": {},
     "output_type": "display_data"
    }
   ],
   "source": [
    "plt.plot(history.history['loss'])\n",
    "plt.plot(history.history['val_loss'])\n",
    "plt.xlabel('epochs')\n",
    "plt.ylabel('loss')\n",
    "plt.legend(['train', 'val'])\n",
    "plt.show()"
   ]
  },
  {
   "cell_type": "code",
   "execution_count": null,
   "id": "d7f510e8",
   "metadata": {},
   "outputs": [],
   "source": []
  },
  {
   "cell_type": "code",
   "execution_count": null,
   "id": "37f87698",
   "metadata": {},
   "outputs": [],
   "source": []
  }
 ],
 "metadata": {
  "kernelspec": {
   "display_name": "Python [conda env:tf_cpu] *",
   "language": "python",
   "name": "conda-env-tf_cpu-py"
  },
  "language_info": {
   "codemirror_mode": {
    "name": "ipython",
    "version": 3
   },
   "file_extension": ".py",
   "mimetype": "text/x-python",
   "name": "python",
   "nbconvert_exporter": "python",
   "pygments_lexer": "ipython3",
   "version": "3.7.13"
  }
 },
 "nbformat": 4,
 "nbformat_minor": 5
}
