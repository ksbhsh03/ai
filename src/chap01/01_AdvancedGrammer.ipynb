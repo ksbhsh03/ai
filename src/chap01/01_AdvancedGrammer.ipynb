{
 "cells": [
  {
   "cell_type": "markdown",
   "id": "2df65256",
   "metadata": {},
   "source": [
    "## 데이터 분석에 유용한기능들...\n",
    "### - list comperhension"
   ]
  },
  {
   "cell_type": "code",
   "execution_count": 3,
   "id": "8ea4b9a8",
   "metadata": {},
   "outputs": [],
   "source": [
    "numbers = [1, 2, 3, 4, 5]\n",
    "square1 = []"
   ]
  },
  {
   "cell_type": "code",
   "execution_count": 4,
   "id": "6423b03f",
   "metadata": {},
   "outputs": [
    {
     "data": {
      "text/plain": [
       "[1, 4, 9, 16, 25]"
      ]
     },
     "execution_count": 4,
     "metadata": {},
     "output_type": "execute_result"
    }
   ],
   "source": [
    "for i in numbers:\n",
    "    square1.append(i ** 2)\n",
    "    \n",
    "square1"
   ]
  },
  {
   "cell_type": "code",
   "execution_count": 6,
   "id": "9774d2f5",
   "metadata": {},
   "outputs": [
    {
     "data": {
      "text/plain": [
       "[1, 4, 9, 16, 25]"
      ]
     },
     "execution_count": 6,
     "metadata": {},
     "output_type": "execute_result"
    }
   ],
   "source": [
    "square2 =[i** 2 for i in numbers]\n",
    "square2"
   ]
  },
  {
   "cell_type": "code",
   "execution_count": 8,
   "id": "afa004a9",
   "metadata": {},
   "outputs": [
    {
     "data": {
      "text/plain": [
       "[9, 16, 25]"
      ]
     },
     "execution_count": 8,
     "metadata": {},
     "output_type": "execute_result"
    }
   ],
   "source": [
    "square3 = []\n",
    "\n",
    "for i in numbers:\n",
    "    if i >=3:\n",
    "        square3.append(i ** 2)\n",
    "        \n",
    "square3"
   ]
  },
  {
   "cell_type": "code",
   "execution_count": 10,
   "id": "43619416",
   "metadata": {},
   "outputs": [
    {
     "data": {
      "text/plain": [
       "[9, 16, 25]"
      ]
     },
     "execution_count": 10,
     "metadata": {},
     "output_type": "execute_result"
    }
   ],
   "source": [
    "square3 = [i ** 2 for i in numbers if i >=3]\n",
    "\n",
    "square3"
   ]
  },
  {
   "cell_type": "markdown",
   "id": "5de88725",
   "metadata": {},
   "source": [
    "* List comprehension : 리스트 변환하는 표현식으로 유용한 기능"
   ]
  },
  {
   "cell_type": "code",
   "execution_count": 12,
   "id": "a51e4677",
   "metadata": {},
   "outputs": [
    {
     "name": "stdout",
     "output_type": "stream",
     "text": [
      "['mon', 'tue', 'wed', 'thu', 'fri', 'sat', 'sun']\n"
     ]
    }
   ],
   "source": [
    "day = ['mon', 'tue', 'wed', 'thu', 'fri', 'sat', 'sun']\n",
    "print([x for x in day])"
   ]
  },
  {
   "cell_type": "code",
   "execution_count": 17,
   "id": "02efcb73",
   "metadata": {},
   "outputs": [
    {
     "name": "stdout",
     "output_type": "stream",
     "text": [
      "[35, 56, 45, 27, 8]\n"
     ]
    }
   ],
   "source": [
    "data = [35, 56, -53, 45, 27, -28, 8, -12]\n",
    "print([x for x in data if x >= 0]) "
   ]
  },
  {
   "cell_type": "code",
   "execution_count": 19,
   "id": "bd593a13",
   "metadata": {},
   "outputs": [
    {
     "name": "stdout",
     "output_type": "stream",
     "text": [
      "[1225, 3136, 2025, 729, 64]\n"
     ]
    }
   ],
   "source": [
    "data = [35, 56, -53, 45, 27, -28, 8, -12]\n",
    "print([x**2 for x in data if x >= 0]) "
   ]
  },
  {
   "cell_type": "markdown",
   "id": "5761c1ec",
   "metadata": {},
   "source": [
    "#### -split(구분자) : 구분자로 구분, 기본값은 공백"
   ]
  },
  {
   "cell_type": "code",
   "execution_count": 23,
   "id": "60b3d17d",
   "metadata": {},
   "outputs": [
    {
     "data": {
      "text/plain": [
       "['the', 'joeun', 'Computer', 'academy', 'with', 'python']"
      ]
     },
     "execution_count": 23,
     "metadata": {},
     "output_type": "execute_result"
    }
   ],
   "source": [
    "test_text = \"the-joeun-Computer-academy-with-python\"\n",
    "result = test_text.split('-') # -기준으로 구분한다.\n",
    "result #list"
   ]
  },
  {
   "cell_type": "code",
   "execution_count": 27,
   "id": "6845fa13",
   "metadata": {},
   "outputs": [
    {
     "data": {
      "text/plain": [
       "['the', 'joeun', 'Computer', 'academy', 'with', 'python']"
      ]
     },
     "execution_count": 27,
     "metadata": {},
     "output_type": "execute_result"
    }
   ],
   "source": [
    "test_text = ['the','joeun','Computer','academy','with','python']\n",
    "test_text"
   ]
  },
  {
   "cell_type": "code",
   "execution_count": 28,
   "id": "79943d7a",
   "metadata": {},
   "outputs": [
    {
     "data": {
      "text/plain": [
       "'the-joeun-Computer-academy-with-python'"
      ]
     },
     "execution_count": 28,
     "metadata": {},
     "output_type": "execute_result"
    }
   ],
   "source": [
    "result = '-'.join(test_text)\n",
    "result"
   ]
  },
  {
   "cell_type": "markdown",
   "id": "71507941",
   "metadata": {},
   "source": [
    "#### split()와 join()의 응용"
   ]
  },
  {
   "cell_type": "code",
   "execution_count": 30,
   "id": "c00fd431",
   "metadata": {},
   "outputs": [
    {
     "data": {
      "text/plain": [
       "'345-234'"
      ]
     },
     "execution_count": 30,
     "metadata": {},
     "output_type": "execute_result"
    }
   ],
   "source": [
    "result = '-'.join('345.234'.split('.'))\n",
    "result"
   ]
  },
  {
   "cell_type": "markdown",
   "id": "170fd7a4",
   "metadata": {},
   "source": [
    "### -enumerate(list) : 인덱스와 값을 함께 반환"
   ]
  },
  {
   "cell_type": "code",
   "execution_count": 31,
   "id": "f68b2dab",
   "metadata": {},
   "outputs": [
    {
     "name": "stdout",
     "output_type": "stream",
     "text": [
      "0 a\n",
      "1 b\n",
      "2 c\n",
      "3 d\n",
      "4 e\n"
     ]
    }
   ],
   "source": [
    " # enumerate()  2개이상의 값을 return해주는 함수\n",
    "for i, name in enumerate(['a','b','c','d','e']):\n",
    "    print(i, name)"
   ]
  },
  {
   "cell_type": "code",
   "execution_count": 33,
   "id": "6f7f62cf",
   "metadata": {},
   "outputs": [
    {
     "data": {
      "text/plain": [
       "{0: 'mon', 1: 'tue', 2: 'wed', 3: 'thu', 4: 'fri', 5: 'sat', 6: 'sun'}"
      ]
     },
     "execution_count": 33,
     "metadata": {},
     "output_type": "execute_result"
    }
   ],
   "source": [
    "seq = ['mon', 'tue', 'wed', 'thu', 'fri', 'sat', 'sun']\n",
    "dict(enumerate(seq))  # 딕셔너리자료형으로 형변환해서 key valuse값으로 변환해준다."
   ]
  },
  {
   "cell_type": "code",
   "execution_count": 35,
   "id": "ab9bf5ec",
   "metadata": {},
   "outputs": [
    {
     "data": {
      "text/plain": [
       "{'a': 'mon',\n",
       " 'b': 'tue',\n",
       " 'c': 'wed',\n",
       " 'd': 'thu',\n",
       " 'e': 'fri',\n",
       " 'f': 'sat',\n",
       " 'g': 'sun'}"
      ]
     },
     "execution_count": 35,
     "metadata": {},
     "output_type": "execute_result"
    }
   ],
   "source": [
    "key_seq = 'abcdefg'\n",
    "value_seq = ['mon', 'tue', 'wed', 'thu', 'fri', 'sat', 'sun']\n",
    "dict(zip(key_seq, value_seq))  # zip() 하니씩 매칭하는 구조로 데이터를 만들어준다."
   ]
  },
  {
   "cell_type": "markdown",
   "id": "a753ed63",
   "metadata": {},
   "source": [
    "### -Counter를 이용한 카운팅\n",
    "* Count는 아이템의 갯수를 자동으로 카운팅."
   ]
  },
  {
   "cell_type": "code",
   "execution_count": 36,
   "id": "ce8d40e8",
   "metadata": {},
   "outputs": [],
   "source": [
    "from collections import Counter"
   ]
  },
  {
   "cell_type": "code",
   "execution_count": 38,
   "id": "7f99b1eb",
   "metadata": {},
   "outputs": [],
   "source": [
    "message = \"\"\"\n",
    "\"Sed ut perspiciatis unde omnis iste natus error \n",
    "sit voluptatem accusantium doloremque laudantium, totam rem aperiam,\n",
    "eaque ipsa quae ab illo inventore veritatis et quasi \n",
    "architecto beatae vitae dicta sunt explicabo. Nemo enim \n",
    "ipsam voluptatem quia voluptas sit aspernatur aut odit aut \n",
    "fugit, sed quia consequuntur magni dolores eos qui ratione \n",
    "voluptatem sequi nesciunt. Neque porro quisquam est, qui dolorem\n",
    "ipsum quia dolor sit amet, consectetur, adipisci velit, sed quia \n",
    "non numquam eius modi tempora incidunt ut labore et dolore magnam \n",
    "aliquam quaerat voluptatem. Ut enim ad minima veniam, quis nostrum\n",
    "exercitationem ullam corporis suscipit laboriosam, nisi ut aliquid\n",
    "ex ea commodi consequatur? Quis autem vel eum iure reprehenderit\n",
    "qui in ea voluptate velit esse quam nihil molestiae consequatur,\n",
    "vel illum qui dolorem eum fugiat quo voluptas nulla pariatur?\"\n",
    "\"\"\""
   ]
  },
  {
   "cell_type": "code",
   "execution_count": 39,
   "id": "08e9b27a",
   "metadata": {},
   "outputs": [
    {
     "name": "stdout",
     "output_type": "stream",
     "text": [
      "Counter({'quia': 4, 'qui': 4, 'ut': 3, 'sit': 3, 'voluptatem': 3, 'et': 2, 'enim': 2, 'voluptas': 2, 'aut': 2, 'sed': 2, 'dolorem': 2, 'ea': 2, 'vel': 2, 'eum': 2, '\"Sed': 1, 'perspiciatis': 1, 'unde': 1, 'omnis': 1, 'iste': 1, 'natus': 1, 'error': 1, 'accusantium': 1, 'doloremque': 1, 'laudantium,': 1, 'totam': 1, 'rem': 1, 'aperiam,': 1, 'eaque': 1, 'ipsa': 1, 'quae': 1, 'ab': 1, 'illo': 1, 'inventore': 1, 'veritatis': 1, 'quasi': 1, 'architecto': 1, 'beatae': 1, 'vitae': 1, 'dicta': 1, 'sunt': 1, 'explicabo.': 1, 'Nemo': 1, 'ipsam': 1, 'aspernatur': 1, 'odit': 1, 'fugit,': 1, 'consequuntur': 1, 'magni': 1, 'dolores': 1, 'eos': 1, 'ratione': 1, 'sequi': 1, 'nesciunt.': 1, 'Neque': 1, 'porro': 1, 'quisquam': 1, 'est,': 1, 'ipsum': 1, 'dolor': 1, 'amet,': 1, 'consectetur,': 1, 'adipisci': 1, 'velit,': 1, 'non': 1, 'numquam': 1, 'eius': 1, 'modi': 1, 'tempora': 1, 'incidunt': 1, 'labore': 1, 'dolore': 1, 'magnam': 1, 'aliquam': 1, 'quaerat': 1, 'voluptatem.': 1, 'Ut': 1, 'ad': 1, 'minima': 1, 'veniam,': 1, 'quis': 1, 'nostrum': 1, 'exercitationem': 1, 'ullam': 1, 'corporis': 1, 'suscipit': 1, 'laboriosam,': 1, 'nisi': 1, 'aliquid': 1, 'ex': 1, 'commodi': 1, 'consequatur?': 1, 'Quis': 1, 'autem': 1, 'iure': 1, 'reprehenderit': 1, 'in': 1, 'voluptate': 1, 'velit': 1, 'esse': 1, 'quam': 1, 'nihil': 1, 'molestiae': 1, 'consequatur,': 1, 'illum': 1, 'fugiat': 1, 'quo': 1, 'nulla': 1, 'pariatur?\"': 1})\n"
     ]
    }
   ],
   "source": [
    "counter = Counter(message.split())\n",
    "print(counter)"
   ]
  },
  {
   "cell_type": "code",
   "execution_count": 40,
   "id": "acfc2f93",
   "metadata": {},
   "outputs": [
    {
     "name": "stdout",
     "output_type": "stream",
     "text": [
      "<class 'collections.Counter'>\n"
     ]
    }
   ],
   "source": [
    "print(type(counter))"
   ]
  },
  {
   "cell_type": "markdown",
   "id": "425ac80b",
   "metadata": {},
   "source": [
    "* Counter(dict) -> list 형태로 반환."
   ]
  },
  {
   "cell_type": "code",
   "execution_count": 41,
   "id": "952a775f",
   "metadata": {},
   "outputs": [
    {
     "name": "stdout",
     "output_type": "stream",
     "text": [
      "[('quia', 4), ('qui', 4), ('ut', 3), ('sit', 3), ('voluptatem', 3), ('et', 2), ('enim', 2), ('voluptas', 2), ('aut', 2), ('sed', 2), ('dolorem', 2), ('ea', 2), ('vel', 2), ('eum', 2), ('\"Sed', 1), ('perspiciatis', 1), ('unde', 1), ('omnis', 1), ('iste', 1), ('natus', 1), ('error', 1), ('accusantium', 1), ('doloremque', 1), ('laudantium,', 1), ('totam', 1), ('rem', 1), ('aperiam,', 1), ('eaque', 1), ('ipsa', 1), ('quae', 1), ('ab', 1), ('illo', 1), ('inventore', 1), ('veritatis', 1), ('quasi', 1), ('architecto', 1), ('beatae', 1), ('vitae', 1), ('dicta', 1), ('sunt', 1), ('explicabo.', 1), ('Nemo', 1), ('ipsam', 1), ('aspernatur', 1), ('odit', 1), ('fugit,', 1), ('consequuntur', 1), ('magni', 1), ('dolores', 1), ('eos', 1), ('ratione', 1), ('sequi', 1), ('nesciunt.', 1), ('Neque', 1), ('porro', 1), ('quisquam', 1), ('est,', 1), ('ipsum', 1), ('dolor', 1), ('amet,', 1), ('consectetur,', 1), ('adipisci', 1), ('velit,', 1), ('non', 1), ('numquam', 1), ('eius', 1), ('modi', 1), ('tempora', 1), ('incidunt', 1), ('labore', 1), ('dolore', 1), ('magnam', 1), ('aliquam', 1), ('quaerat', 1), ('voluptatem.', 1), ('Ut', 1), ('ad', 1), ('minima', 1), ('veniam,', 1), ('quis', 1), ('nostrum', 1), ('exercitationem', 1), ('ullam', 1), ('corporis', 1), ('suscipit', 1), ('laboriosam,', 1), ('nisi', 1), ('aliquid', 1), ('ex', 1), ('commodi', 1), ('consequatur?', 1), ('Quis', 1), ('autem', 1), ('iure', 1), ('reprehenderit', 1), ('in', 1), ('voluptate', 1), ('velit', 1), ('esse', 1), ('quam', 1), ('nihil', 1), ('molestiae', 1), ('consequatur,', 1), ('illum', 1), ('fugiat', 1), ('quo', 1), ('nulla', 1), ('pariatur?\"', 1)]\n"
     ]
    }
   ],
   "source": [
    "print(counter.most_common())  # most_common() 리스트형태로 변환 하고 그안에는 튜플로 변환하는 함수"
   ]
  },
  {
   "cell_type": "markdown",
   "id": "f618f7ec",
   "metadata": {},
   "source": [
    "* list -> dict 형태로 변환"
   ]
  },
  {
   "cell_type": "code",
   "execution_count": 43,
   "id": "9e4eac8a",
   "metadata": {},
   "outputs": [
    {
     "name": "stdout",
     "output_type": "stream",
     "text": [
      "{'quia': 4, 'qui': 4, 'ut': 3, 'sit': 3, 'voluptatem': 3, 'et': 2, 'enim': 2, 'voluptas': 2, 'aut': 2, 'sed': 2, 'dolorem': 2, 'ea': 2, 'vel': 2, 'eum': 2, '\"Sed': 1, 'perspiciatis': 1, 'unde': 1, 'omnis': 1, 'iste': 1, 'natus': 1, 'error': 1, 'accusantium': 1, 'doloremque': 1, 'laudantium,': 1, 'totam': 1, 'rem': 1, 'aperiam,': 1, 'eaque': 1, 'ipsa': 1, 'quae': 1, 'ab': 1, 'illo': 1, 'inventore': 1, 'veritatis': 1, 'quasi': 1, 'architecto': 1, 'beatae': 1, 'vitae': 1, 'dicta': 1, 'sunt': 1, 'explicabo.': 1, 'Nemo': 1, 'ipsam': 1, 'aspernatur': 1, 'odit': 1, 'fugit,': 1, 'consequuntur': 1, 'magni': 1, 'dolores': 1, 'eos': 1, 'ratione': 1, 'sequi': 1, 'nesciunt.': 1, 'Neque': 1, 'porro': 1, 'quisquam': 1, 'est,': 1, 'ipsum': 1, 'dolor': 1, 'amet,': 1, 'consectetur,': 1, 'adipisci': 1, 'velit,': 1, 'non': 1, 'numquam': 1, 'eius': 1, 'modi': 1, 'tempora': 1, 'incidunt': 1, 'labore': 1, 'dolore': 1, 'magnam': 1, 'aliquam': 1, 'quaerat': 1, 'voluptatem.': 1, 'Ut': 1, 'ad': 1, 'minima': 1, 'veniam,': 1, 'quis': 1, 'nostrum': 1, 'exercitationem': 1, 'ullam': 1, 'corporis': 1, 'suscipit': 1, 'laboriosam,': 1, 'nisi': 1, 'aliquid': 1, 'ex': 1, 'commodi': 1, 'consequatur?': 1, 'Quis': 1, 'autem': 1, 'iure': 1, 'reprehenderit': 1, 'in': 1, 'voluptate': 1, 'velit': 1, 'esse': 1, 'quam': 1, 'nihil': 1, 'molestiae': 1, 'consequatur,': 1, 'illum': 1, 'fugiat': 1, 'quo': 1, 'nulla': 1, 'pariatur?\"': 1}\n"
     ]
    }
   ],
   "source": [
    "dict_msg = dict(counter.most_common())  # 딕셔너리로 변환\n",
    "print(dict_msg)"
   ]
  },
  {
   "cell_type": "code",
   "execution_count": 44,
   "id": "636722bc",
   "metadata": {},
   "outputs": [
    {
     "name": "stdout",
     "output_type": "stream",
     "text": [
      "2\n"
     ]
    }
   ],
   "source": [
    "print(dict_msg['et'])   #특정값 "
   ]
  },
  {
   "cell_type": "code",
   "execution_count": null,
   "id": "a73a2f96",
   "metadata": {},
   "outputs": [],
   "source": []
  }
 ],
 "metadata": {
  "kernelspec": {
   "display_name": "Python [conda env:tf_cpu] *",
   "language": "python",
   "name": "conda-env-tf_cpu-py"
  },
  "language_info": {
   "codemirror_mode": {
    "name": "ipython",
    "version": 3
   },
   "file_extension": ".py",
   "mimetype": "text/x-python",
   "name": "python",
   "nbconvert_exporter": "python",
   "pygments_lexer": "ipython3",
   "version": "3.7.13"
  }
 },
 "nbformat": 4,
 "nbformat_minor": 5
}
